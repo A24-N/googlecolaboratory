{
  "cells": [
    {
      "cell_type": "markdown",
      "metadata": {
        "id": "view-in-github",
        "colab_type": "text"
      },
      "source": [
        "<a href=\"https://colab.research.google.com/github/A24-N/googlecolaboratory/blob/main/05_neural_network_editor.ipynb\" target=\"_parent\"><img src=\"https://colab.research.google.com/assets/colab-badge.svg\" alt=\"Open In Colab\"/></a>"
      ]
    },
    {
      "cell_type": "markdown",
      "metadata": {
        "id": "vmrXW1fNTT47"
      },
      "source": [
        "# ニューラルネット実装"
      ]
    },
    {
      "cell_type": "markdown",
      "metadata": {
        "id": "r3ljb52sTT48"
      },
      "source": [
        "1. データの特徴について確認します。（13問）\n",
        "    - 各変数のデータ型、行列数、統計量を算出し、今回扱うデータの外観を把握します。\n",
        "2. データを加工する方法について学習します。（7問）\n",
        "    - 各変数をモデルに入れる形に整えます。（特徴量生成フェーズ）\n",
        "3. ニューラルネットワークのモデリング方法について学習します。（19問）\n",
        "    - ディープラーニングのモデリングと精度を上げるときのポイントについて学習します。\n",
        "4. CNNについて学習します。（17問）\n",
        "    - 画像データに対して相性の良いCNNモデルについて学習します。\n",
        "5. RNNについて学習します。（15問）\n",
        "    - 時系列、テキストデータ等に対して相性の良いRNNモデルについて学習します。"
      ]
    },
    {
      "cell_type": "markdown",
      "metadata": {
        "id": "iiZpEw0BTT48"
      },
      "source": [
        "### 0. 事前準備"
      ]
    },
    {
      "cell_type": "markdown",
      "metadata": {
        "id": "0dk23VcOTT49"
      },
      "source": [
        "#### 0.1  必要なライブラリを読み込んで下さい。"
      ]
    },
    {
      "cell_type": "code",
      "execution_count": 576,
      "metadata": {
        "id": "5szYmHD_TT49"
      },
      "outputs": [],
      "source": [
        "import pandas as pd\n",
        "import numpy as np\n",
        "import matplotlib.pyplot as plt\n",
        "import warnings\n",
        "\n",
        "# 目的変数の加工処理で必要なライブラリ\n",
        "from keras.utils.np_utils import to_categorical\n",
        "\n",
        "# Jupyter 上で図を表示するためのコマンド\n",
        "%matplotlib inline\n",
        "\n",
        "# warningを表示させない\n",
        "warnings.simplefilter('ignore')"
      ]
    },
    {
      "cell_type": "markdown",
      "metadata": {
        "id": "9m99l1uxTT4-"
      },
      "source": [
        "#### 0.2 minstを読み込んで、学習データ（説明変数）、学習データ（目的変数）、検証データ（説明変数）、検証データ（目的変数）にデータを格納してください。"
      ]
    },
    {
      "cell_type": "code",
      "execution_count": 577,
      "metadata": {
        "id": "m_Kee_IqTT4-",
        "scrolled": true
      },
      "outputs": [],
      "source": [
        "from keras.datasets import mnist\n",
        "(X_train, y_train), (X_test, y_test) = mnist.load_data()"
      ]
    },
    {
      "cell_type": "markdown",
      "metadata": {
        "id": "-VGXna0PTT4-"
      },
      "source": [
        "### 1.データの特徴について確認します。"
      ]
    },
    {
      "cell_type": "markdown",
      "metadata": {
        "id": "BjQiEEhYTT4-"
      },
      "source": [
        "#### 1.1説明変数の学習データ（X_train）の レコード数を確認してください。"
      ]
    },
    {
      "cell_type": "code",
      "execution_count": 578,
      "metadata": {
        "colab": {
          "base_uri": "https://localhost:8080/"
        },
        "id": "ycndVL8ITT4-",
        "outputId": "8b002620-d26d-4542-9e06-4722f475901d"
      },
      "outputs": [
        {
          "output_type": "execute_result",
          "data": {
            "text/plain": [
              "60000"
            ]
          },
          "metadata": {},
          "execution_count": 578
        }
      ],
      "source": [
        "len(X_train)"
      ]
    },
    {
      "cell_type": "markdown",
      "metadata": {
        "id": "w3awHuJ6TT4-"
      },
      "source": [
        "#### 1.2 目的変数の学習データ（y_train）レコード数を確認してください。"
      ]
    },
    {
      "cell_type": "code",
      "execution_count": 579,
      "metadata": {
        "colab": {
          "base_uri": "https://localhost:8080/"
        },
        "id": "LEZnyLsbTT4_",
        "outputId": "5bb53812-4ef6-4335-8e0b-36dc76c57fc6"
      },
      "outputs": [
        {
          "output_type": "execute_result",
          "data": {
            "text/plain": [
              "60000"
            ]
          },
          "metadata": {},
          "execution_count": 579
        }
      ],
      "source": [
        "len(y_train)"
      ]
    },
    {
      "cell_type": "markdown",
      "metadata": {
        "id": "5CDxigT0TT4_"
      },
      "source": [
        "#### 1.3（X_train）の行列数（各次元の要素数）を確認してください。"
      ]
    },
    {
      "cell_type": "code",
      "execution_count": 580,
      "metadata": {
        "colab": {
          "base_uri": "https://localhost:8080/"
        },
        "id": "2Z7WpSrvTT4_",
        "outputId": "cf83baa9-ed35-4211-accb-021a84e00846"
      },
      "outputs": [
        {
          "output_type": "execute_result",
          "data": {
            "text/plain": [
              "(60000, 28, 28)"
            ]
          },
          "metadata": {},
          "execution_count": 580
        }
      ],
      "source": [
        "X_train.shape"
      ]
    },
    {
      "cell_type": "markdown",
      "metadata": {
        "id": "dJFguqoKTT4_"
      },
      "source": [
        "#### 1.4 今回の学習データは3次元の性質を持っているようです。今度は正解データの性質を確認してみましょう。（y_train）の行列数を確認してください。"
      ]
    },
    {
      "cell_type": "code",
      "execution_count": 581,
      "metadata": {
        "colab": {
          "base_uri": "https://localhost:8080/"
        },
        "id": "tiOD7Fu6TT4_",
        "outputId": "0c6047aa-f87d-4b8f-9b68-1feafe47add0"
      },
      "outputs": [
        {
          "output_type": "execute_result",
          "data": {
            "text/plain": [
              "(60000,)"
            ]
          },
          "metadata": {},
          "execution_count": 581
        }
      ],
      "source": [
        "y_train.shape"
      ]
    },
    {
      "cell_type": "markdown",
      "metadata": {
        "id": "YzZXUic2TT4_"
      },
      "source": [
        "#### 1.5 正解データは1次元です。X_trainの1番目（indexは0）のデータの中身を確認してみましょう。"
      ]
    },
    {
      "cell_type": "code",
      "execution_count": 582,
      "metadata": {
        "colab": {
          "base_uri": "https://localhost:8080/"
        },
        "id": "_8hNaVXITT4_",
        "outputId": "9f3c594d-4379-4492-cb9d-4cc28d844124"
      },
      "outputs": [
        {
          "output_type": "execute_result",
          "data": {
            "text/plain": [
              "array([[  0,   0,   0,   0,   0,   0,   0,   0,   0,   0,   0,   0,   0,\n",
              "          0,   0,   0,   0,   0,   0,   0,   0,   0,   0,   0,   0,   0,\n",
              "          0,   0],\n",
              "       [  0,   0,   0,   0,   0,   0,   0,   0,   0,   0,   0,   0,   0,\n",
              "          0,   0,   0,   0,   0,   0,   0,   0,   0,   0,   0,   0,   0,\n",
              "          0,   0],\n",
              "       [  0,   0,   0,   0,   0,   0,   0,   0,   0,   0,   0,   0,   0,\n",
              "          0,   0,   0,   0,   0,   0,   0,   0,   0,   0,   0,   0,   0,\n",
              "          0,   0],\n",
              "       [  0,   0,   0,   0,   0,   0,   0,   0,   0,   0,   0,   0,   0,\n",
              "          0,   0,   0,   0,   0,   0,   0,   0,   0,   0,   0,   0,   0,\n",
              "          0,   0],\n",
              "       [  0,   0,   0,   0,   0,   0,   0,   0,   0,   0,   0,   0,   0,\n",
              "          0,   0,   0,   0,   0,   0,   0,   0,   0,   0,   0,   0,   0,\n",
              "          0,   0],\n",
              "       [  0,   0,   0,   0,   0,   0,   0,   0,   0,   0,   0,   0,   3,\n",
              "         18,  18,  18, 126, 136, 175,  26, 166, 255, 247, 127,   0,   0,\n",
              "          0,   0],\n",
              "       [  0,   0,   0,   0,   0,   0,   0,   0,  30,  36,  94, 154, 170,\n",
              "        253, 253, 253, 253, 253, 225, 172, 253, 242, 195,  64,   0,   0,\n",
              "          0,   0],\n",
              "       [  0,   0,   0,   0,   0,   0,   0,  49, 238, 253, 253, 253, 253,\n",
              "        253, 253, 253, 253, 251,  93,  82,  82,  56,  39,   0,   0,   0,\n",
              "          0,   0],\n",
              "       [  0,   0,   0,   0,   0,   0,   0,  18, 219, 253, 253, 253, 253,\n",
              "        253, 198, 182, 247, 241,   0,   0,   0,   0,   0,   0,   0,   0,\n",
              "          0,   0],\n",
              "       [  0,   0,   0,   0,   0,   0,   0,   0,  80, 156, 107, 253, 253,\n",
              "        205,  11,   0,  43, 154,   0,   0,   0,   0,   0,   0,   0,   0,\n",
              "          0,   0],\n",
              "       [  0,   0,   0,   0,   0,   0,   0,   0,   0,  14,   1, 154, 253,\n",
              "         90,   0,   0,   0,   0,   0,   0,   0,   0,   0,   0,   0,   0,\n",
              "          0,   0],\n",
              "       [  0,   0,   0,   0,   0,   0,   0,   0,   0,   0,   0, 139, 253,\n",
              "        190,   2,   0,   0,   0,   0,   0,   0,   0,   0,   0,   0,   0,\n",
              "          0,   0],\n",
              "       [  0,   0,   0,   0,   0,   0,   0,   0,   0,   0,   0,  11, 190,\n",
              "        253,  70,   0,   0,   0,   0,   0,   0,   0,   0,   0,   0,   0,\n",
              "          0,   0],\n",
              "       [  0,   0,   0,   0,   0,   0,   0,   0,   0,   0,   0,   0,  35,\n",
              "        241, 225, 160, 108,   1,   0,   0,   0,   0,   0,   0,   0,   0,\n",
              "          0,   0],\n",
              "       [  0,   0,   0,   0,   0,   0,   0,   0,   0,   0,   0,   0,   0,\n",
              "         81, 240, 253, 253, 119,  25,   0,   0,   0,   0,   0,   0,   0,\n",
              "          0,   0],\n",
              "       [  0,   0,   0,   0,   0,   0,   0,   0,   0,   0,   0,   0,   0,\n",
              "          0,  45, 186, 253, 253, 150,  27,   0,   0,   0,   0,   0,   0,\n",
              "          0,   0],\n",
              "       [  0,   0,   0,   0,   0,   0,   0,   0,   0,   0,   0,   0,   0,\n",
              "          0,   0,  16,  93, 252, 253, 187,   0,   0,   0,   0,   0,   0,\n",
              "          0,   0],\n",
              "       [  0,   0,   0,   0,   0,   0,   0,   0,   0,   0,   0,   0,   0,\n",
              "          0,   0,   0,   0, 249, 253, 249,  64,   0,   0,   0,   0,   0,\n",
              "          0,   0],\n",
              "       [  0,   0,   0,   0,   0,   0,   0,   0,   0,   0,   0,   0,   0,\n",
              "          0,  46, 130, 183, 253, 253, 207,   2,   0,   0,   0,   0,   0,\n",
              "          0,   0],\n",
              "       [  0,   0,   0,   0,   0,   0,   0,   0,   0,   0,   0,   0,  39,\n",
              "        148, 229, 253, 253, 253, 250, 182,   0,   0,   0,   0,   0,   0,\n",
              "          0,   0],\n",
              "       [  0,   0,   0,   0,   0,   0,   0,   0,   0,   0,  24, 114, 221,\n",
              "        253, 253, 253, 253, 201,  78,   0,   0,   0,   0,   0,   0,   0,\n",
              "          0,   0],\n",
              "       [  0,   0,   0,   0,   0,   0,   0,   0,  23,  66, 213, 253, 253,\n",
              "        253, 253, 198,  81,   2,   0,   0,   0,   0,   0,   0,   0,   0,\n",
              "          0,   0],\n",
              "       [  0,   0,   0,   0,   0,   0,  18, 171, 219, 253, 253, 253, 253,\n",
              "        195,  80,   9,   0,   0,   0,   0,   0,   0,   0,   0,   0,   0,\n",
              "          0,   0],\n",
              "       [  0,   0,   0,   0,  55, 172, 226, 253, 253, 253, 253, 244, 133,\n",
              "         11,   0,   0,   0,   0,   0,   0,   0,   0,   0,   0,   0,   0,\n",
              "          0,   0],\n",
              "       [  0,   0,   0,   0, 136, 253, 253, 253, 212, 135, 132,  16,   0,\n",
              "          0,   0,   0,   0,   0,   0,   0,   0,   0,   0,   0,   0,   0,\n",
              "          0,   0],\n",
              "       [  0,   0,   0,   0,   0,   0,   0,   0,   0,   0,   0,   0,   0,\n",
              "          0,   0,   0,   0,   0,   0,   0,   0,   0,   0,   0,   0,   0,\n",
              "          0,   0],\n",
              "       [  0,   0,   0,   0,   0,   0,   0,   0,   0,   0,   0,   0,   0,\n",
              "          0,   0,   0,   0,   0,   0,   0,   0,   0,   0,   0,   0,   0,\n",
              "          0,   0],\n",
              "       [  0,   0,   0,   0,   0,   0,   0,   0,   0,   0,   0,   0,   0,\n",
              "          0,   0,   0,   0,   0,   0,   0,   0,   0,   0,   0,   0,   0,\n",
              "          0,   0]], dtype=uint8)"
            ]
          },
          "metadata": {},
          "execution_count": 582
        }
      ],
      "source": [
        "X_train[0]"
      ]
    },
    {
      "cell_type": "markdown",
      "metadata": {
        "id": "PTm4ubv_TT4_"
      },
      "source": [
        "#### 1.6 同様にy_trainのデータの中身を確認してみましょう。"
      ]
    },
    {
      "cell_type": "code",
      "execution_count": 583,
      "metadata": {
        "colab": {
          "base_uri": "https://localhost:8080/"
        },
        "id": "k_GdScBXTT4_",
        "outputId": "efa40798-7363-44b6-becb-97e7d91a7d2b"
      },
      "outputs": [
        {
          "output_type": "execute_result",
          "data": {
            "text/plain": [
              "array([5, 0, 4, ..., 5, 6, 8], dtype=uint8)"
            ]
          },
          "metadata": {},
          "execution_count": 583
        }
      ],
      "source": [
        "y_train"
      ]
    },
    {
      "cell_type": "markdown",
      "metadata": {
        "id": "WwWdZGzJTT4_"
      },
      "source": [
        "#### 1.7 y_trainの要素の集計を行いましょう。"
      ]
    },
    {
      "cell_type": "markdown",
      "metadata": {
        "id": "82BF_FWqvX41"
      },
      "source": [
        "参考：https://note.nkmk.me/python-pandas-sort-values-sort-index/"
      ]
    },
    {
      "cell_type": "code",
      "execution_count": 584,
      "metadata": {
        "colab": {
          "base_uri": "https://localhost:8080/"
        },
        "id": "ZPXbiD3uTT5A",
        "outputId": "f93540fe-796c-41dc-dd4f-0ab5deaa179f"
      },
      "outputs": [
        {
          "output_type": "execute_result",
          "data": {
            "text/plain": [
              "0    5923\n",
              "1    6742\n",
              "2    5958\n",
              "3    6131\n",
              "4    5842\n",
              "5    5421\n",
              "6    5918\n",
              "7    6265\n",
              "8    5851\n",
              "9    5949\n",
              "dtype: int64"
            ]
          },
          "metadata": {},
          "execution_count": 584
        }
      ],
      "source": [
        "pd.Series(y_train).value_counts().sort_index()"
      ]
    },
    {
      "cell_type": "markdown",
      "metadata": {
        "id": "5GXiIjEUTT5A"
      },
      "source": [
        "#### 1.8 目的変数は0～9までの数字が割り当てられているようです。説明変数と目的変数それぞれの学習データ、検証データの次元数を確認してみましょう。"
      ]
    },
    {
      "cell_type": "code",
      "execution_count": 585,
      "metadata": {
        "colab": {
          "base_uri": "https://localhost:8080/"
        },
        "id": "o1uzFBbITT5A",
        "outputId": "d27eefcb-91b5-4200-a093-1ec45a74119a"
      },
      "outputs": [
        {
          "output_type": "stream",
          "name": "stdout",
          "text": [
            "(60000, 28, 28)\n",
            "(60000,)\n",
            "(10000, 28, 28)\n",
            "(10000,)\n"
          ]
        }
      ],
      "source": [
        "print(X_train.shape)\n",
        "print(y_train.shape)\n",
        "print(X_test.shape)\n",
        "print(y_test.shape)"
      ]
    },
    {
      "cell_type": "markdown",
      "metadata": {
        "id": "_UODfpM3TT5A"
      },
      "source": [
        "#### 1.9 学習データは60000件、検証データは10000件、学習データの要素数は28×28、それに対して0～9の正解データが存在していることが分かりました。最初の学習データ（indexは0）を可視化してみましょう。※ヒント：「plt.imshow」を使用してください。"
      ]
    },
    {
      "cell_type": "markdown",
      "metadata": {
        "id": "vu51GDbswWOU"
      },
      "source": [
        "参考：https://qiita.com/hirowatari-s/items/e51cf26d093fbefa5598"
      ]
    },
    {
      "cell_type": "code",
      "execution_count": 586,
      "metadata": {
        "colab": {
          "base_uri": "https://localhost:8080/",
          "height": 265
        },
        "id": "2Td8tp--TT5A",
        "outputId": "90892377-6f8b-43fc-fea6-57ad0ac08cc8"
      },
      "outputs": [
        {
          "output_type": "display_data",
          "data": {
            "text/plain": [
              "<Figure size 432x288 with 1 Axes>"
            ],
            "image/png": "[encoded data removed]"
          },
          "metadata": {
            "needs_background": "light"
          }
        }
      ],
      "source": [
        "plt.imshow(X_train[0], cmap='Greys')\n",
        "plt.show()"
      ]
    },
    {
      "cell_type": "markdown",
      "metadata": {
        "id": "1olSFNCFTT5A"
      },
      "source": [
        "#### 1.10 色の濃さはどのように表現されているのでしょうか。最初の学習データ（0番目）の最初の要素（0番目）を出力してください。"
      ]
    },
    {
      "cell_type": "code",
      "execution_count": 587,
      "metadata": {
        "colab": {
          "base_uri": "https://localhost:8080/"
        },
        "id": "OyWBTwzmTT5A",
        "outputId": "18cde501-f7c9-4153-ca9e-d04b86c442f0"
      },
      "outputs": [
        {
          "output_type": "execute_result",
          "data": {
            "text/plain": [
              "array([0, 0, 0, 0, 0, 0, 0, 0, 0, 0, 0, 0, 0, 0, 0, 0, 0, 0, 0, 0, 0, 0,\n",
              "       0, 0, 0, 0, 0, 0], dtype=uint8)"
            ]
          },
          "metadata": {},
          "execution_count": 587
        }
      ],
      "source": [
        "X_train[0][0]"
      ]
    },
    {
      "cell_type": "markdown",
      "metadata": {
        "id": "jOms-vNwTT5A"
      },
      "source": [
        "#### 1.11 最初の学習データ（indexは0）の6番目の要素（indexは5）を出力してください。※画像と数字を比較して見てください。"
      ]
    },
    {
      "cell_type": "code",
      "execution_count": 588,
      "metadata": {
        "colab": {
          "base_uri": "https://localhost:8080/"
        },
        "id": "xeDpO_UJTT5A",
        "outputId": "de418bc7-fd65-47b7-fd08-aecd9aed2d21"
      },
      "outputs": [
        {
          "output_type": "execute_result",
          "data": {
            "text/plain": [
              "array([  0,   0,   0,   0,   0,   0,   0,   0,   0,   0,   0,   0,   3,\n",
              "        18,  18,  18, 126, 136, 175,  26, 166, 255, 247, 127,   0,   0,\n",
              "         0,   0], dtype=uint8)"
            ]
          },
          "metadata": {},
          "execution_count": 588
        }
      ],
      "source": [
        "X_train[0][5]"
      ]
    },
    {
      "cell_type": "markdown",
      "metadata": {
        "id": "89xCTj3WTT5A"
      },
      "source": [
        "#### 1.12 最初の学習データ（indexは0）を転置させて、6番目の要素（indexは5）を出力してください。※画像と数字を比較して見てください。"
      ]
    },
    {
      "cell_type": "markdown",
      "metadata": {
        "id": "LhjASGf1xysP"
      },
      "source": [
        "参考：http://arduinopid.web.fc2.com/Q3-18.htm："
      ]
    },
    {
      "cell_type": "code",
      "execution_count": 589,
      "metadata": {
        "colab": {
          "base_uri": "https://localhost:8080/"
        },
        "id": "6IfpKpanTT5B",
        "outputId": "d6efbde8-5bcd-4c09-cc86-054b33dd3b9a"
      },
      "outputs": [
        {
          "output_type": "execute_result",
          "data": {
            "text/plain": [
              "array([  0,   0,   0,   0,   0,   0,   0,   0,   0,   0,   0,   0,   0,\n",
              "         0,   0,   0,   0,   0,   0,   0,   0,   0,   0, 172, 253,   0,\n",
              "         0,   0], dtype=uint8)"
            ]
          },
          "metadata": {},
          "execution_count": 589
        }
      ],
      "source": [
        "X_train[0].T[5]"
      ]
    },
    {
      "cell_type": "markdown",
      "metadata": {
        "id": "5ehX_cgFTT5B"
      },
      "source": [
        "#### 1.13 学習データの構成は（60000,28,28）＝（枚数,横座標,縦座標）を表しており、数字が小さいと「白」、大きいと「黒」を表現しているようです。最後にtrain_xの最大値、最小値を確認してみましょう。"
      ]
    },
    {
      "cell_type": "code",
      "execution_count": 590,
      "metadata": {
        "colab": {
          "base_uri": "https://localhost:8080/"
        },
        "id": "viTCy_SbTT5B",
        "outputId": "21b4fc19-1f04-4400-f05d-2ef5e2c75577"
      },
      "outputs": [
        {
          "output_type": "stream",
          "name": "stdout",
          "text": [
            "255\n",
            "0\n"
          ]
        }
      ],
      "source": [
        "print(X_train.max())\n",
        "print(X_train.min())"
      ]
    },
    {
      "cell_type": "markdown",
      "metadata": {
        "id": "NciPfkq2TT5B"
      },
      "source": [
        "### 2.データの加工方法について学習します。"
      ]
    },
    {
      "cell_type": "markdown",
      "metadata": {
        "id": "ahpdo8gRTT5B"
      },
      "source": [
        "#### 2.1 kerasに入れる形にデータを整えていきましょう。まず、28×28の画像データ（X_train,X_test）を全て（60000枚）1次元化してください。"
      ]
    },
    {
      "cell_type": "code",
      "execution_count": 591,
      "metadata": {
        "colab": {
          "base_uri": "https://localhost:8080/"
        },
        "id": "N3CyPY7ETT5B",
        "outputId": "28445ca2-ba52-48d3-e035-f7dd37dc50bb"
      },
      "outputs": [
        {
          "output_type": "stream",
          "name": "stdout",
          "text": [
            "(60000, 784)\n",
            "(10000, 784)\n"
          ]
        }
      ],
      "source": [
        "X_train = X_train.reshape(60000, 784)\n",
        "X_test = X_test.reshape(10000, 784)\n",
        "print(X_train.shape)\n",
        "print(X_test.shape)"
      ]
    },
    {
      "cell_type": "markdown",
      "metadata": {
        "id": "C8IrO42GTT5B"
      },
      "source": [
        "#### 2.2 ディープラーニングは正規化処理を施した方が適切な結果が出ることが多いです。28×28の画像データ（X_train,X_test）の最大値が1になるように正規化してください。"
      ]
    },
    {
      "cell_type": "code",
      "execution_count": 592,
      "metadata": {
        "colab": {
          "base_uri": "https://localhost:8080/"
        },
        "id": "bVzpmXP5TT5B",
        "outputId": "c33e093e-5e7d-4254-8fb0-07d84603ba77"
      },
      "outputs": [
        {
          "output_type": "stream",
          "name": "stdout",
          "text": [
            "X_train_max: 1.0\n",
            "X_test_min: 0.0\n"
          ]
        }
      ],
      "source": [
        "# 下記では後々エラーが出る\n",
        "# X_train = np.clip(X_train, None, 1).astype('float32')\n",
        "# X_test = np.clip(X_train, None, 1).astype('float32')\n",
        "X_train = X_train.astype('float32') / 255\n",
        "X_test = X_test.astype('float32') / 255\n",
        "print('X_train_max:',X_train.max())\n",
        "print('X_test_min:',X_train.min())\n",
        "\n"
      ]
    },
    {
      "cell_type": "markdown",
      "metadata": {
        "id": "8naroWaxTT5B"
      },
      "source": [
        "#### 2.3 目的変数の形を「0」、「1」だけで表す必要があります。整数値を2値クラスの配列に変換した上で、y_trainを上から5行表示してください。※ワンホットエンコーディング処理といいます。"
      ]
    },
    {
      "cell_type": "markdown",
      "metadata": {
        "id": "8J3QhdjW5NVW"
      },
      "source": [
        "参考：https://analytics-note.xyz/machine-learning/keras-to-categorical/"
      ]
    },
    {
      "cell_type": "code",
      "execution_count": 593,
      "metadata": {
        "colab": {
          "base_uri": "https://localhost:8080/"
        },
        "id": "i_Qv-3xLTT5B",
        "outputId": "6cb13bc6-5a52-404c-d8a4-9e15a5bd6dd5"
      },
      "outputs": [
        {
          "output_type": "execute_result",
          "data": {
            "text/plain": [
              "array([[0., 0., 0., 0., 0., 1., 0., 0., 0., 0.],\n",
              "       [1., 0., 0., 0., 0., 0., 0., 0., 0., 0.],\n",
              "       [0., 0., 0., 0., 1., 0., 0., 0., 0., 0.],\n",
              "       [0., 1., 0., 0., 0., 0., 0., 0., 0., 0.],\n",
              "       [0., 0., 0., 0., 0., 0., 0., 0., 0., 1.]], dtype=float32)"
            ]
          },
          "metadata": {},
          "execution_count": 593
        }
      ],
      "source": [
        "y_train = to_categorical(y_train)\n",
        "y_test = to_categorical(y_test)\n",
        "y_train[:5]"
      ]
    },
    {
      "cell_type": "markdown",
      "metadata": {
        "id": "AvPFgUvRTT5C"
      },
      "source": [
        "#### 2.4 説明変数と目的変数の形式は整いました。それでは各ノードにおける「入力」と「出力」のイメージを理解していきましょう。下記の様な「2×3」の行列を作成して、「w」と言う変数に格納して下さい。同様に「3×1」の行列を作成し、「x」という変数に格納して下さい。"
      ]
    },
    {
      "cell_type": "code",
      "execution_count": 594,
      "metadata": {
        "colab": {
          "base_uri": "https://localhost:8080/"
        },
        "id": "NV-RT6BnTT5C",
        "outputId": "8d47cdee-c615-4217-ec3d-143f087f6a8b"
      },
      "outputs": [
        {
          "output_type": "stream",
          "name": "stdout",
          "text": [
            "----w----\n",
            "[[1 2 3]\n",
            " [4 5 6]]\n",
            "----y----\n",
            "[[ 1]\n",
            " [-2]\n",
            " [-3]]\n"
          ]
        }
      ],
      "source": [
        "w = np.arange(1,7).reshape(2,3)\n",
        "x = np.array([[1],[-2],[-3]])\n",
        "print('----w----')\n",
        "print(w)\n",
        "print('----y----')\n",
        "print(x)"
      ]
    },
    {
      "cell_type": "markdown",
      "metadata": {
        "id": "0KUsZdzRTT5C"
      },
      "source": [
        "#### 2.5 「3個のデータ」である「x」に重み「w」をかけ合わせて「2個のデータ」を出力してみましょう。※行列演算を行います。ニューラルネットワークはデータに重みをかけ合わせて新たな数値を出力し、その数値を活性化関数で変換して出てきた値を次の層の入力とすることの繰り返しです。"
      ]
    },
    {
      "cell_type": "markdown",
      "metadata": {
        "id": "5S29XE9F8BCC"
      },
      "source": [
        "参考：https://note.nkmk.me/python-numpy-matrix/"
      ]
    },
    {
      "cell_type": "code",
      "execution_count": 595,
      "metadata": {
        "colab": {
          "base_uri": "https://localhost:8080/"
        },
        "id": "8aQ36AggTT5C",
        "outputId": "3c6bc2e0-2bc5-4342-fc7a-44a663e0067c"
      },
      "outputs": [
        {
          "output_type": "execute_result",
          "data": {
            "text/plain": [
              "array([[-12],\n",
              "       [-24]])"
            ]
          },
          "metadata": {},
          "execution_count": 595
        }
      ],
      "source": [
        "z = w.dot(x)\n",
        "z"
      ]
    },
    {
      "cell_type": "markdown",
      "metadata": {
        "id": "g-7fXW0XTT5C"
      },
      "source": [
        "#### 2.6 活性化関数のイメージを掴んでいきましょう。「2.5」で算出した行列に、活性化関数の一種である「シグモイド関数」をかけて値を算出して下さい。※値が0～1の間に収まる関数です。kerasでは引数で設定することができます。"
      ]
    },
    {
      "cell_type": "markdown",
      "metadata": {
        "id": "9ebUcKF-81Oi"
      },
      "source": [
        "https://ryamashina.com/itml/20210730/"
      ]
    },
    {
      "cell_type": "code",
      "execution_count": 596,
      "metadata": {
        "colab": {
          "base_uri": "https://localhost:8080/"
        },
        "id": "WwnXR7MpTT5C",
        "outputId": "141691ae-4546-488b-ce37-547fcb587ebf"
      },
      "outputs": [
        {
          "output_type": "execute_result",
          "data": {
            "text/plain": [
              "array([[6.14417460e-06],\n",
              "       [3.77513454e-11]])"
            ]
          },
          "metadata": {},
          "execution_count": 596
        }
      ],
      "source": [
        "1 / (1 + np.exp(-z))"
      ]
    },
    {
      "cell_type": "markdown",
      "metadata": {
        "id": "m0uXFyNyTT5C"
      },
      "source": [
        "#### 2.7 活性化関数のイメージを掴んでいきましょう。「2.5」で算出した行列に、活性化関数の一種である「relu」をかけて値を算出して下さい。※正の値はそのまま、負の値は「0」に変換する関数です。kerasでは引数で設定することができます。"
      ]
    },
    {
      "cell_type": "markdown",
      "metadata": {
        "id": "Gu9VwLvS9QwR"
      },
      "source": [
        "参考：https://tetoblog.org/2021/05/act-function-relu："
      ]
    },
    {
      "cell_type": "code",
      "execution_count": 597,
      "metadata": {
        "colab": {
          "base_uri": "https://localhost:8080/"
        },
        "id": "uu2_dTJNTT5C",
        "outputId": "af38c5cd-9231-444f-efa1-8b2cd7f08910"
      },
      "outputs": [
        {
          "output_type": "execute_result",
          "data": {
            "text/plain": [
              "array([[0],\n",
              "       [0]])"
            ]
          },
          "metadata": {},
          "execution_count": 597
        }
      ],
      "source": [
        "np.maximum(0,z)"
      ]
    },
    {
      "cell_type": "markdown",
      "metadata": {
        "id": "31LIjbG2TT5C"
      },
      "source": [
        "### 3.ニューラルネットワークのモデリング方法について学習します。※layerの名前、精度結果が一致している必要は無いです。また、モデリングの実行後、時間がかかる処理があります。"
      ]
    },
    {
      "cell_type": "markdown",
      "metadata": {
        "id": "2T3UFXuPTT5D"
      },
      "source": [
        "#### 3.1 Sequentialのクラスを読み込んでください。"
      ]
    },
    {
      "cell_type": "markdown",
      "metadata": {
        "id": "ydV1SKQP9qen"
      },
      "source": [
        "参考：http://marupeke296.com/IKDADV_DL_No2_Keras.html"
      ]
    },
    {
      "cell_type": "code",
      "execution_count": 598,
      "metadata": {
        "colab": {
          "base_uri": "https://localhost:8080/"
        },
        "id": "5OwL9Nr2TT5D",
        "outputId": "1114f282-408f-492d-e8e5-cf0858e4463a"
      },
      "outputs": [
        {
          "output_type": "stream",
          "name": "stdout",
          "text": [
            "<class 'keras.engine.sequential.Sequential'>\n"
          ]
        }
      ],
      "source": [
        "from keras.models import Sequential\n",
        "print(Sequential)"
      ]
    },
    {
      "cell_type": "markdown",
      "metadata": {
        "id": "6hOJuZSLTT5D"
      },
      "source": [
        "#### 3.2 全結合レイヤーである「Dense」のクラスを読み込んで下さい。"
      ]
    },
    {
      "cell_type": "code",
      "execution_count": 599,
      "metadata": {
        "colab": {
          "base_uri": "https://localhost:8080/"
        },
        "id": "2UnPyufFTT5D",
        "outputId": "5cfe2e2e-afc1-4a75-bc81-df49792681e9"
      },
      "outputs": [
        {
          "output_type": "stream",
          "name": "stdout",
          "text": [
            "<class 'keras.layers.core.dense.Dense'>\n"
          ]
        }
      ],
      "source": [
        "from keras.layers import Dense\n",
        "print(Dense)"
      ]
    },
    {
      "cell_type": "markdown",
      "metadata": {
        "id": "L8raQJlvTT5D"
      },
      "source": [
        "#### 3.3 今回は「Sequentialモデル」を使用して、ニューラルネットワークを構築していきましょう。「784」件の入力を受け取り、「32」件の出力を返し、活性化関数が「シグモイド関数」の層を作成してください。※32件にしている理由は特にありません。"
      ]
    },
    {
      "cell_type": "markdown",
      "metadata": {
        "id": "Tmf5ha5Y_nqK"
      },
      "source": [
        "参考：https://sinyblog.com/deaplearning/keras_how_to/#Sequential<br>\n",
        "      https://keras.io/ja/models/about-keras-models/"
      ]
    },
    {
      "cell_type": "code",
      "execution_count": 600,
      "metadata": {
        "colab": {
          "base_uri": "https://localhost:8080/"
        },
        "id": "DeCI90LxTT5D",
        "outputId": "45c95d4e-e6e6-43b2-c6bc-33b07a75d2cf"
      },
      "outputs": [
        {
          "output_type": "stream",
          "name": "stdout",
          "text": [
            "Model: \"sequential_45\"\n",
            "_________________________________________________________________\n",
            " Layer (type)                Output Shape              Param #   \n",
            "=================================================================\n",
            " dense_107 (Dense)           (None, 32)                25120     \n",
            "                                                                 \n",
            "=================================================================\n",
            "Total params: 25,120\n",
            "Trainable params: 25,120\n",
            "Non-trainable params: 0\n",
            "_________________________________________________________________\n"
          ]
        }
      ],
      "source": [
        "from keras import models\n",
        "\n",
        "model = models.Sequential()\n",
        "model.add(Dense(32, activation='sigmoid', input_dim=784))\n",
        "model.summary()"
      ]
    },
    {
      "cell_type": "markdown",
      "metadata": {
        "id": "-zclDuLTTT5D"
      },
      "source": [
        "#### 3.4 「10」件の出力を返す、活性化関数がソフトマックス関数の出力層を追加し、サマリーを出力して下さい。"
      ]
    },
    {
      "cell_type": "code",
      "execution_count": 601,
      "metadata": {
        "colab": {
          "base_uri": "https://localhost:8080/"
        },
        "id": "2sx8yuiKTT5D",
        "outputId": "f31178a6-6b40-44e3-c33c-2c107c7e28fb"
      },
      "outputs": [
        {
          "output_type": "stream",
          "name": "stdout",
          "text": [
            "Model: \"sequential_45\"\n",
            "_________________________________________________________________\n",
            " Layer (type)                Output Shape              Param #   \n",
            "=================================================================\n",
            " dense_107 (Dense)           (None, 32)                25120     \n",
            "                                                                 \n",
            " dense_108 (Dense)           (None, 10)                330       \n",
            "                                                                 \n",
            "=================================================================\n",
            "Total params: 25,450\n",
            "Trainable params: 25,450\n",
            "Non-trainable params: 0\n",
            "_________________________________________________________________\n"
          ]
        }
      ],
      "source": [
        "model.add(Dense(10, activation='softmax'))\n",
        "model.summary()"
      ]
    },
    {
      "cell_type": "markdown",
      "metadata": {
        "id": "ZplZTSuDTT5D"
      },
      "source": [
        "#### 3.5 学習方法をcompile関数で設定しましょう。最適化関数を「確率的勾配降下法（Stochastic gradient descent）」を選択して下さい。誤差関数を「categorical_crossentropy」で設定し、metricsは「正解率」を設定してみましょう。※何を目的として重みを更新するかを決定している部分になります。※確率的勾配降下法は難しい概念なので、本コンテンツでは説明しません。詳しく知りたい方は調べてみて下さい。"
      ]
    },
    {
      "cell_type": "markdown",
      "source": [
        "参考：https://keras.io/ja/metrics/#_3"
      ],
      "metadata": {
        "id": "AOdFB8YBC1xr"
      }
    },
    {
      "cell_type": "code",
      "execution_count": 602,
      "metadata": {
        "id": "CXHrOH51TT5D"
      },
      "outputs": [],
      "source": [
        "model.compile(loss='categorical_crossentropy',\n",
        "              optimizer='sgd',\n",
        "              metrics=['acc'])"
      ]
    },
    {
      "cell_type": "markdown",
      "metadata": {
        "id": "etzHp_6kTT5D"
      },
      "source": [
        "#### 3.6 学習を実行しましょう。fit関数に学習データを当てはめて下さい。"
      ]
    },
    {
      "cell_type": "code",
      "execution_count": 603,
      "metadata": {
        "id": "Ijls0Q0kTT5E",
        "colab": {
          "base_uri": "https://localhost:8080/"
        },
        "outputId": "3dc2fd8e-19df-45c0-ffd5-75760b922c1c"
      },
      "outputs": [
        {
          "output_type": "stream",
          "name": "stdout",
          "text": [
            "1875/1875 [==============================] - 4s 2ms/step - loss: 1.6396 - acc: 0.6582\n"
          ]
        }
      ],
      "source": [
        "tmp = model.fit(X_train, y_train)"
      ]
    },
    {
      "cell_type": "markdown",
      "metadata": {
        "id": "37mbEcDwTT5E"
      },
      "source": [
        "#### 3.7 「3.6」の学習を、epochs「4」で設定して行って下さい。※epochsとは「一つの訓練データを何回繰り返して学習させるか」の数のことです。"
      ]
    },
    {
      "cell_type": "code",
      "execution_count": 604,
      "metadata": {
        "id": "XHUeZ_R1TT5E",
        "colab": {
          "base_uri": "https://localhost:8080/"
        },
        "outputId": "ea8b779d-5365-4890-b59f-84613a648e6b"
      },
      "outputs": [
        {
          "output_type": "stream",
          "name": "stdout",
          "text": [
            "Epoch 1/4\n",
            "1875/1875 [==============================] - 3s 2ms/step - loss: 0.8788 - acc: 0.8272\n",
            "Epoch 2/4\n",
            "1875/1875 [==============================] - 3s 2ms/step - loss: 0.6292 - acc: 0.8631\n",
            "Epoch 3/4\n",
            "1875/1875 [==============================] - 4s 2ms/step - loss: 0.5174 - acc: 0.8792\n",
            "Epoch 4/4\n",
            "1875/1875 [==============================] - 3s 2ms/step - loss: 0.4548 - acc: 0.8873\n"
          ]
        }
      ],
      "source": [
        "tmp = model.fit(X_train, y_train, epochs=4)"
      ]
    },
    {
      "cell_type": "markdown",
      "metadata": {
        "id": "Vhcp9O6uTT5E"
      },
      "source": [
        "#### 3.8 学習を繰り返せば、精度が向上することが確認できます。「3.7」の学習を、batch_size=「100」で設定して行って下さい。※batchとは、訓練データをいくつかのかたまりに分割したものを指します。batch_sizeとはそのかたまりのサイズを指します。"
      ]
    },
    {
      "cell_type": "code",
      "execution_count": 605,
      "metadata": {
        "id": "3vab3VSzTT5E",
        "colab": {
          "base_uri": "https://localhost:8080/"
        },
        "outputId": "53938529-cb27-49b6-d620-7c3f1c15185e"
      },
      "outputs": [
        {
          "output_type": "stream",
          "name": "stdout",
          "text": [
            "Epoch 1/4\n",
            "600/600 [==============================] - 3s 4ms/step - loss: 0.4257 - acc: 0.8919\n",
            "Epoch 2/4\n",
            "600/600 [==============================] - 1s 2ms/step - loss: 0.4145 - acc: 0.8939\n",
            "Epoch 3/4\n",
            "600/600 [==============================] - 1s 2ms/step - loss: 0.4046 - acc: 0.8954\n",
            "Epoch 4/4\n",
            "600/600 [==============================] - 1s 2ms/step - loss: 0.3956 - acc: 0.8971\n"
          ]
        }
      ],
      "source": [
        "tmp = model.fit(X_train, y_train, epochs=4, batch_size=100)"
      ]
    },
    {
      "cell_type": "markdown",
      "metadata": {
        "id": "pX-gZYEQTT5E"
      },
      "source": [
        "#### 3.9 学習速度が早くなっていることが確認できます。ディープラーニングは学習時間が非常にかかるので、データによっては速度を意識する必要があることを覚えておきましょう。学習データに対する結果を確認し、x軸に「epoch」、y軸に「accuracy」のグラフを作成して下さい。"
      ]
    },
    {
      "cell_type": "code",
      "execution_count": 606,
      "metadata": {
        "id": "uI1MYvciTT5E",
        "colab": {
          "base_uri": "https://localhost:8080/",
          "height": 295
        },
        "outputId": "07cf09f9-4e52-4ca4-c705-127e0d056758"
      },
      "outputs": [
        {
          "output_type": "display_data",
          "data": {
            "text/plain": [
              "<Figure size 432x288 with 1 Axes>"
            ],
            "image/png": "[encoded data removed]"
          },
          "metadata": {
            "needs_background": "light"
          }
        }
      ],
      "source": [
        "plt.plot(tmp.history['acc'])\n",
        "plt.title('model accuracy')\n",
        "plt.ylabel('accuracy')\n",
        "plt.xlabel('epoch')\n",
        "plt.legend(['accuracy'])\n",
        "plt.show()\n"
      ]
    },
    {
      "cell_type": "markdown",
      "metadata": {
        "id": "m31eVPb_TT5E"
      },
      "source": [
        "#### 3.10 今度は検証データに対する評価結果を確認してみましょう。誤差と正解率を算出して下さい。"
      ]
    },
    {
      "cell_type": "code",
      "execution_count": 607,
      "metadata": {
        "id": "fT-s8EQXTT5E",
        "colab": {
          "base_uri": "https://localhost:8080/"
        },
        "outputId": "439722fb-793f-4d68-fcc2-a524f8c2686c"
      },
      "outputs": [
        {
          "output_type": "stream",
          "name": "stdout",
          "text": [
            "loss: 0.3764567971229553\n",
            "accuracy: 0.9036999940872192\n"
          ]
        }
      ],
      "source": [
        "loss, accuracy  = model.evaluate(X_test, y_test, verbose=False)\n",
        "print('loss:',loss)\n",
        "print('accuracy:',accuracy)\n"
      ]
    },
    {
      "cell_type": "markdown",
      "metadata": {
        "id": "t6AO8peJTT5E"
      },
      "source": [
        "#### 3.11 「3.8」の条件と、中間層を「1つ」追加した時と「2つ」追加した時の「モデルサマリ」、「正解率推移」、「評価指標」を確認して下さい。※今までの処理を関数化するイメージです。中間層の入力数と出力数は「32」で設定しましょう。"
      ]
    },
    {
      "cell_type": "markdown",
      "source": [
        "**※要確認**"
      ],
      "metadata": {
        "id": "N0_HPXm0QN81"
      }
    },
    {
      "cell_type": "code",
      "execution_count": 608,
      "metadata": {
        "id": "SWDkgGH4TT5E",
        "colab": {
          "base_uri": "https://localhost:8080/",
          "height": 1000
        },
        "outputId": "0a5fabf3-cf10-4d3f-daf8-a2fc316f7d8d"
      },
      "outputs": [
        {
          "output_type": "stream",
          "name": "stdout",
          "text": [
            "Model: \"sequential_46\"\n",
            "_________________________________________________________________\n",
            " Layer (type)                Output Shape              Param #   \n",
            "=================================================================\n",
            " dense_109 (Dense)           (None, 32)                25120     \n",
            "                                                                 \n",
            " dense_110 (Dense)           (None, 10)                330       \n",
            "                                                                 \n",
            "=================================================================\n",
            "Total params: 25,450\n",
            "Trainable params: 25,450\n",
            "Non-trainable params: 0\n",
            "_________________________________________________________________\n",
            "Epoch 1/4\n",
            "600/600 [==============================] - 2s 2ms/step - loss: 2.0737 - accuracy: 0.4440\n",
            "Epoch 2/4\n",
            "600/600 [==============================] - 1s 2ms/step - loss: 1.6161 - accuracy: 0.6921\n",
            "Epoch 3/4\n",
            "600/600 [==============================] - 2s 3ms/step - loss: 1.2831 - accuracy: 0.7543\n",
            "Epoch 4/4\n",
            "600/600 [==============================] - 2s 4ms/step - loss: 1.0556 - accuracy: 0.7912\n",
            "313/313 [==============================] - 1s 1ms/step - loss: 0.9532 - accuracy: 0.8104\n"
          ]
        },
        {
          "output_type": "display_data",
          "data": {
            "text/plain": [
              "<Figure size 432x288 with 1 Axes>"
            ],
            "image/png": "[encoded data removed]"
          },
          "metadata": {
            "needs_background": "light"
          }
        },
        {
          "output_type": "stream",
          "name": "stdout",
          "text": [
            "accuracy 0.8104000091552734\n",
            "Model: \"sequential_47\"\n",
            "_________________________________________________________________\n",
            " Layer (type)                Output Shape              Param #   \n",
            "=================================================================\n",
            " dense_111 (Dense)           (None, 32)                25120     \n",
            "                                                                 \n",
            " dense_112 (Dense)           (None, 32)                1056      \n",
            "                                                                 \n",
            " dense_113 (Dense)           (None, 10)                330       \n",
            "                                                                 \n",
            "=================================================================\n",
            "Total params: 26,506\n",
            "Trainable params: 26,506\n",
            "Non-trainable params: 0\n",
            "_________________________________________________________________\n",
            "Epoch 1/4\n",
            "600/600 [==============================] - 2s 2ms/step - loss: 2.2956 - accuracy: 0.1510\n",
            "Epoch 2/4\n",
            "600/600 [==============================] - 1s 2ms/step - loss: 2.2535 - accuracy: 0.2581\n",
            "Epoch 3/4\n",
            "600/600 [==============================] - 1s 2ms/step - loss: 2.2095 - accuracy: 0.3521\n",
            "Epoch 4/4\n",
            "600/600 [==============================] - 2s 3ms/step - loss: 2.1455 - accuracy: 0.4406\n",
            "313/313 [==============================] - 1s 2ms/step - loss: 2.1001 - accuracy: 0.4738\n"
          ]
        },
        {
          "output_type": "display_data",
          "data": {
            "text/plain": [
              "<Figure size 432x288 with 1 Axes>"
            ],
            "image/png": "[encoded data removed]"
          },
          "metadata": {
            "needs_background": "light"
          }
        },
        {
          "output_type": "stream",
          "name": "stdout",
          "text": [
            "accuracy 0.47380000352859497\n",
            "Model: \"sequential_48\"\n",
            "_________________________________________________________________\n",
            " Layer (type)                Output Shape              Param #   \n",
            "=================================================================\n",
            " dense_114 (Dense)           (None, 32)                25120     \n",
            "                                                                 \n",
            " dense_115 (Dense)           (None, 32)                1056      \n",
            "                                                                 \n",
            " dense_116 (Dense)           (None, 32)                1056      \n",
            "                                                                 \n",
            " dense_117 (Dense)           (None, 10)                330       \n",
            "                                                                 \n",
            "=================================================================\n",
            "Total params: 27,562\n",
            "Trainable params: 27,562\n",
            "Non-trainable params: 0\n",
            "_________________________________________________________________\n",
            "Epoch 1/4\n",
            "600/600 [==============================] - 2s 2ms/step - loss: 2.3185 - accuracy: 0.1071\n",
            "Epoch 2/4\n",
            "600/600 [==============================] - 2s 3ms/step - loss: 2.2977 - accuracy: 0.1128\n",
            "Epoch 3/4\n",
            "600/600 [==============================] - 2s 3ms/step - loss: 2.2950 - accuracy: 0.1126\n",
            "Epoch 4/4\n",
            "600/600 [==============================] - 1s 2ms/step - loss: 2.2919 - accuracy: 0.1127\n",
            "313/313 [==============================] - 1s 1ms/step - loss: 2.2897 - accuracy: 0.1135\n"
          ]
        },
        {
          "output_type": "display_data",
          "data": {
            "text/plain": [
              "<Figure size 432x288 with 1 Axes>"
            ],
            "image/png": "[encoded data removed]"
          },
          "metadata": {
            "needs_background": "light"
          }
        },
        {
          "output_type": "stream",
          "name": "stdout",
          "text": [
            "accuracy 0.11349999904632568\n"
          ]
        }
      ],
      "source": [
        "image_size = 784\n",
        "num_classes = 10\n",
        "activation = 'sigmoid'\n",
        "\n",
        "def create_model(layer_num,activation):\n",
        "    model = Sequential()\n",
        "    model.add(Dense(layer_num[0], activation = activation, input_shape = (image_size,)))\n",
        "\n",
        "    for s in layer_num[1:]:\n",
        "        model.add(Dense(units = s, activation = activation))\n",
        "\n",
        "    model.add(Dense(units = num_classes, activation = 'softmax'))\n",
        "    return model\n",
        "def evaluate(model, batch_size=100, epochs=4):\n",
        "    model.summary()\n",
        "    model.compile(optimizer = 'sgd', loss = 'categorical_crossentropy', metrics = ['accuracy'])\n",
        "    history = model.fit(X_train, y_train, batch_size=batch_size, epochs=epochs)\n",
        "    loss, accuracy = model.evaluate(X_test, y_test)\n",
        "\n",
        "    plt.plot(history.history['accuracy'])\n",
        "    plt.title('model accuracy')\n",
        "    plt.ylabel('accuracy')\n",
        "    plt.xlabel('epoch')\n",
        "    plt.legend(['training'])\n",
        "    plt.show()\n",
        "    print(\"accuracy\", accuracy)\n",
        "\n",
        "for layers in range(1,4):\n",
        "    model = create_model([32] * layers, activation)\n",
        "    evaluate(model)\n"
      ]
    },
    {
      "cell_type": "markdown",
      "metadata": {
        "id": "UsCj3gb_TT5E"
      },
      "source": [
        "#### 3.12 層を増やせば増やすほど、学習データの精度が劣化していることが確認できました。次は「3.11」の「中間層を2層追加した状態」でエポック数を40回に設定し、学習データの精度の推移を確認して下さい。"
      ]
    },
    {
      "cell_type": "markdown",
      "source": [
        "※要確認"
      ],
      "metadata": {
        "id": "2T9xckbBQrAS"
      }
    },
    {
      "cell_type": "code",
      "execution_count": 609,
      "metadata": {
        "id": "LILcNzFaTT5F",
        "colab": {
          "base_uri": "https://localhost:8080/",
          "height": 1000
        },
        "outputId": "c1cb58b9-e941-44b1-834f-92587d845522"
      },
      "outputs": [
        {
          "output_type": "stream",
          "name": "stdout",
          "text": [
            "Model: \"sequential_49\"\n",
            "_________________________________________________________________\n",
            " Layer (type)                Output Shape              Param #   \n",
            "=================================================================\n",
            " dense_118 (Dense)           (None, 32)                25120     \n",
            "                                                                 \n",
            " dense_119 (Dense)           (None, 32)                1056      \n",
            "                                                                 \n",
            " dense_120 (Dense)           (None, 32)                1056      \n",
            "                                                                 \n",
            " dense_121 (Dense)           (None, 10)                330       \n",
            "                                                                 \n",
            "=================================================================\n",
            "Total params: 27,562\n",
            "Trainable params: 27,562\n",
            "Non-trainable params: 0\n",
            "_________________________________________________________________\n",
            "Epoch 1/40\n",
            "600/600 [==============================] - 2s 3ms/step - loss: 2.3166 - accuracy: 0.1124\n",
            "Epoch 2/40\n",
            "600/600 [==============================] - 2s 4ms/step - loss: 2.2994 - accuracy: 0.1124\n",
            "Epoch 3/40\n",
            "600/600 [==============================] - 1s 2ms/step - loss: 2.2971 - accuracy: 0.1124\n",
            "Epoch 4/40\n",
            "600/600 [==============================] - 1s 2ms/step - loss: 2.2944 - accuracy: 0.1124\n",
            "Epoch 5/40\n",
            "600/600 [==============================] - 1s 2ms/step - loss: 2.2913 - accuracy: 0.1140\n",
            "Epoch 6/40\n",
            "600/600 [==============================] - 3s 4ms/step - loss: 2.2874 - accuracy: 0.1156\n",
            "Epoch 7/40\n",
            "600/600 [==============================] - 2s 3ms/step - loss: 2.2825 - accuracy: 0.1183\n",
            "Epoch 8/40\n",
            "600/600 [==============================] - 1s 2ms/step - loss: 2.2758 - accuracy: 0.1297\n",
            "Epoch 9/40\n",
            "600/600 [==============================] - 2s 4ms/step - loss: 2.2663 - accuracy: 0.1674\n",
            "Epoch 10/40\n",
            "600/600 [==============================] - 2s 3ms/step - loss: 2.2522 - accuracy: 0.2040\n",
            "Epoch 11/40\n",
            "600/600 [==============================] - 1s 2ms/step - loss: 2.2302 - accuracy: 0.2617\n",
            "Epoch 12/40\n",
            "600/600 [==============================] - 1s 2ms/step - loss: 2.1949 - accuracy: 0.3061\n",
            "Epoch 13/40\n",
            "600/600 [==============================] - 1s 2ms/step - loss: 2.1390 - accuracy: 0.3183\n",
            "Epoch 14/40\n",
            "600/600 [==============================] - 1s 2ms/step - loss: 2.0602 - accuracy: 0.3271\n",
            "Epoch 15/40\n",
            "600/600 [==============================] - 1s 2ms/step - loss: 1.9712 - accuracy: 0.3286\n",
            "Epoch 16/40\n",
            "600/600 [==============================] - 1s 2ms/step - loss: 1.8911 - accuracy: 0.3470\n",
            "Epoch 17/40\n",
            "600/600 [==============================] - 2s 3ms/step - loss: 1.8275 - accuracy: 0.3683\n",
            "Epoch 18/40\n",
            "600/600 [==============================] - 2s 3ms/step - loss: 1.7774 - accuracy: 0.3886\n",
            "Epoch 19/40\n",
            "600/600 [==============================] - 1s 2ms/step - loss: 1.7346 - accuracy: 0.4092\n",
            "Epoch 20/40\n",
            "600/600 [==============================] - 1s 2ms/step - loss: 1.6942 - accuracy: 0.4296\n",
            "Epoch 21/40\n",
            "600/600 [==============================] - 1s 2ms/step - loss: 1.6523 - accuracy: 0.4455\n",
            "Epoch 22/40\n",
            "600/600 [==============================] - 1s 2ms/step - loss: 1.6058 - accuracy: 0.4660\n",
            "Epoch 23/40\n",
            "600/600 [==============================] - 1s 2ms/step - loss: 1.5527 - accuracy: 0.4872\n",
            "Epoch 24/40\n",
            "600/600 [==============================] - 1s 2ms/step - loss: 1.4934 - accuracy: 0.5124\n",
            "Epoch 25/40\n",
            "600/600 [==============================] - 2s 3ms/step - loss: 1.4309 - accuracy: 0.5394\n",
            "Epoch 26/40\n",
            "600/600 [==============================] - 2s 3ms/step - loss: 1.3697 - accuracy: 0.5609\n",
            "Epoch 27/40\n",
            "600/600 [==============================] - 1s 2ms/step - loss: 1.3131 - accuracy: 0.5825\n",
            "Epoch 28/40\n",
            "600/600 [==============================] - 1s 2ms/step - loss: 1.2617 - accuracy: 0.5975\n",
            "Epoch 29/40\n",
            "600/600 [==============================] - 1s 2ms/step - loss: 1.2156 - accuracy: 0.6130\n",
            "Epoch 30/40\n",
            "600/600 [==============================] - 1s 2ms/step - loss: 1.1740 - accuracy: 0.6293\n",
            "Epoch 31/40\n",
            "600/600 [==============================] - 1s 2ms/step - loss: 1.1359 - accuracy: 0.6449\n",
            "Epoch 32/40\n",
            "600/600 [==============================] - 1s 2ms/step - loss: 1.1008 - accuracy: 0.6597\n",
            "Epoch 33/40\n",
            "600/600 [==============================] - 2s 3ms/step - loss: 1.0679 - accuracy: 0.6748\n",
            "Epoch 34/40\n",
            "600/600 [==============================] - 2s 4ms/step - loss: 1.0370 - accuracy: 0.6883\n",
            "Epoch 35/40\n",
            "600/600 [==============================] - 1s 2ms/step - loss: 1.0078 - accuracy: 0.7024\n",
            "Epoch 36/40\n",
            "600/600 [==============================] - 1s 2ms/step - loss: 0.9801 - accuracy: 0.7154\n",
            "Epoch 37/40\n",
            "600/600 [==============================] - 1s 2ms/step - loss: 0.9539 - accuracy: 0.7261\n",
            "Epoch 38/40\n",
            "600/600 [==============================] - 1s 2ms/step - loss: 0.9288 - accuracy: 0.7380\n",
            "Epoch 39/40\n",
            "600/600 [==============================] - 1s 2ms/step - loss: 0.9048 - accuracy: 0.7486\n",
            "Epoch 40/40\n",
            "600/600 [==============================] - 1s 2ms/step - loss: 0.8816 - accuracy: 0.7583\n",
            "313/313 [==============================] - 1s 1ms/step - loss: 0.8611 - accuracy: 0.7661\n"
          ]
        },
        {
          "output_type": "display_data",
          "data": {
            "text/plain": [
              "<Figure size 432x288 with 1 Axes>"
            ],
            "image/png": "[encoded data removed]"
          },
          "metadata": {
            "needs_background": "light"
          }
        },
        {
          "output_type": "stream",
          "name": "stdout",
          "text": [
            "accuracy 0.7660999894142151\n"
          ]
        }
      ],
      "source": [
        "activation = 'sigmoid'\n",
        "\n",
        "model = create_model([32] * 3, activation)\n",
        "evaluate(model,epochs=40)"
      ]
    },
    {
      "cell_type": "markdown",
      "metadata": {
        "id": "_EfImMWVTT5F"
      },
      "source": [
        "#### 3.13 「3.12」の条件に加えてepochsを「10」で設定し、学習データと検証データの「誤差」の推移を確認してグラフを出力して下さい。※モデルを初期化する必要はないです。"
      ]
    },
    {
      "cell_type": "markdown",
      "source": [
        "※要確認"
      ],
      "metadata": {
        "id": "1pX81bDjUzrn"
      }
    },
    {
      "cell_type": "code",
      "execution_count": 610,
      "metadata": {
        "id": "ZFaAhv3yTT5F",
        "colab": {
          "base_uri": "https://localhost:8080/",
          "height": 650
        },
        "outputId": "b87c2aa8-81a9-4fc4-926f-321200296fea"
      },
      "outputs": [
        {
          "output_type": "stream",
          "name": "stdout",
          "text": [
            "Epoch 1/10\n",
            "600/600 [==============================] - 2s 3ms/step - loss: 0.8590 - accuracy: 0.7681 - val_loss: 0.8395 - val_accuracy: 0.7745\n",
            "Epoch 2/10\n",
            "600/600 [==============================] - 2s 3ms/step - loss: 0.8371 - accuracy: 0.7772 - val_loss: 0.8178 - val_accuracy: 0.7851\n",
            "Epoch 3/10\n",
            "600/600 [==============================] - 2s 3ms/step - loss: 0.8153 - accuracy: 0.7865 - val_loss: 0.7965 - val_accuracy: 0.7935\n",
            "Epoch 4/10\n",
            "600/600 [==============================] - 2s 4ms/step - loss: 0.7937 - accuracy: 0.7944 - val_loss: 0.7753 - val_accuracy: 0.8019\n",
            "Epoch 5/10\n",
            "600/600 [==============================] - 2s 3ms/step - loss: 0.7722 - accuracy: 0.8029 - val_loss: 0.7539 - val_accuracy: 0.8092\n",
            "Epoch 6/10\n",
            "600/600 [==============================] - 2s 3ms/step - loss: 0.7505 - accuracy: 0.8104 - val_loss: 0.7320 - val_accuracy: 0.8177\n",
            "Epoch 7/10\n",
            "600/600 [==============================] - 2s 3ms/step - loss: 0.7286 - accuracy: 0.8176 - val_loss: 0.7104 - val_accuracy: 0.8254\n",
            "Epoch 8/10\n",
            "600/600 [==============================] - 2s 3ms/step - loss: 0.7069 - accuracy: 0.8243 - val_loss: 0.6886 - val_accuracy: 0.8317\n",
            "Epoch 9/10\n",
            "600/600 [==============================] - 2s 3ms/step - loss: 0.6851 - accuracy: 0.8304 - val_loss: 0.6673 - val_accuracy: 0.8377\n",
            "Epoch 10/10\n",
            "600/600 [==============================] - 2s 3ms/step - loss: 0.6638 - accuracy: 0.8365 - val_loss: 0.6464 - val_accuracy: 0.8424\n"
          ]
        },
        {
          "output_type": "display_data",
          "data": {
            "text/plain": [
              "<Figure size 432x288 with 1 Axes>"
            ],
            "image/png": "[encoded data removed]"
          },
          "metadata": {
            "needs_background": "light"
          }
        }
      ],
      "source": [
        "history = model.fit(X_train, y_train, epochs = 10, batch_size = 100, validation_data=(X_test,y_test))\n",
        "\n",
        "history_dict = history.history\n",
        "loss_values = history_dict['loss']\n",
        "val_loss_values = history_dict['val_loss']\n",
        "\n",
        "epochs = range(1,len(loss_values) + 1)\n",
        "\n",
        "plt.plot(epochs, loss_values,'bo', label='traning loss')\n",
        "plt.plot(epochs, val_loss_values,'b', label='Validation loss')\n",
        "plt.show()"
      ]
    },
    {
      "cell_type": "markdown",
      "metadata": {
        "id": "ccnVpnwDTT5F"
      },
      "source": [
        "#### 3.14「学習データ」、「検証データ」共に、誤差が減少していることが分かります。複雑なモデルには、沢山の学習が必要なようです。今度は中間層無しで入力数を[32, 64, 128, 256]と変更したときの。学習データの精度を確認してみましょう。"
      ]
    },
    {
      "cell_type": "code",
      "execution_count": 611,
      "metadata": {
        "id": "3qRNh-GSTT5F",
        "colab": {
          "base_uri": "https://localhost:8080/",
          "height": 1000
        },
        "outputId": "f79464fc-c1d3-44f1-9196-f750990b3801"
      },
      "outputs": [
        {
          "output_type": "stream",
          "name": "stdout",
          "text": [
            "Model: \"sequential_50\"\n",
            "_________________________________________________________________\n",
            " Layer (type)                Output Shape              Param #   \n",
            "=================================================================\n",
            " dense_122 (Dense)           (None, 32)                25120     \n",
            "                                                                 \n",
            " dense_123 (Dense)           (None, 10)                330       \n",
            "                                                                 \n",
            "=================================================================\n",
            "Total params: 25,450\n",
            "Trainable params: 25,450\n",
            "Non-trainable params: 0\n",
            "_________________________________________________________________\n",
            "Epoch 1/4\n",
            "600/600 [==============================] - 3s 4ms/step - loss: 2.0827 - accuracy: 0.4425\n",
            "Epoch 2/4\n",
            "600/600 [==============================] - 1s 2ms/step - loss: 1.6330 - accuracy: 0.6973\n",
            "Epoch 3/4\n",
            "600/600 [==============================] - 1s 2ms/step - loss: 1.2940 - accuracy: 0.7605\n",
            "Epoch 4/4\n",
            "600/600 [==============================] - 1s 2ms/step - loss: 1.0596 - accuracy: 0.8039\n",
            "313/313 [==============================] - 1s 1ms/step - loss: 0.9543 - accuracy: 0.8257\n"
          ]
        },
        {
          "output_type": "display_data",
          "data": {
            "text/plain": [
              "<Figure size 432x288 with 1 Axes>"
            ],
            "image/png": "[encoded data removed]"
          },
          "metadata": {
            "needs_background": "light"
          }
        },
        {
          "output_type": "stream",
          "name": "stdout",
          "text": [
            "accuracy 0.8256999850273132\n",
            "\n",
            "Model: \"sequential_51\"\n",
            "_________________________________________________________________\n",
            " Layer (type)                Output Shape              Param #   \n",
            "=================================================================\n",
            " dense_124 (Dense)           (None, 64)                50240     \n",
            "                                                                 \n",
            " dense_125 (Dense)           (None, 10)                650       \n",
            "                                                                 \n",
            "=================================================================\n",
            "Total params: 50,890\n",
            "Trainable params: 50,890\n",
            "Non-trainable params: 0\n",
            "_________________________________________________________________\n",
            "Epoch 1/4\n",
            "600/600 [==============================] - 2s 3ms/step - loss: 2.0169 - accuracy: 0.4978\n",
            "Epoch 2/4\n",
            "600/600 [==============================] - 1s 2ms/step - loss: 1.4906 - accuracy: 0.7161\n",
            "Epoch 3/4\n",
            "600/600 [==============================] - 1s 2ms/step - loss: 1.1347 - accuracy: 0.7822\n",
            "Epoch 4/4\n",
            "600/600 [==============================] - 2s 4ms/step - loss: 0.9135 - accuracy: 0.8160\n",
            "313/313 [==============================] - 1s 2ms/step - loss: 0.8136 - accuracy: 0.8347\n"
          ]
        },
        {
          "output_type": "display_data",
          "data": {
            "text/plain": [
              "<Figure size 432x288 with 1 Axes>"
            ],
            "image/png": "[encoded data removed]"
          },
          "metadata": {
            "needs_background": "light"
          }
        },
        {
          "output_type": "stream",
          "name": "stdout",
          "text": [
            "accuracy 0.8346999883651733\n",
            "\n",
            "Model: \"sequential_52\"\n",
            "_________________________________________________________________\n",
            " Layer (type)                Output Shape              Param #   \n",
            "=================================================================\n",
            " dense_126 (Dense)           (None, 128)               100480    \n",
            "                                                                 \n",
            " dense_127 (Dense)           (None, 10)                1290      \n",
            "                                                                 \n",
            "=================================================================\n",
            "Total params: 101,770\n",
            "Trainable params: 101,770\n",
            "Non-trainable params: 0\n",
            "_________________________________________________________________\n",
            "Epoch 1/4\n",
            "600/600 [==============================] - 3s 4ms/step - loss: 1.9498 - accuracy: 0.5738\n",
            "Epoch 2/4\n",
            "600/600 [==============================] - 2s 3ms/step - loss: 1.3758 - accuracy: 0.7662\n",
            "Epoch 3/4\n",
            "600/600 [==============================] - 2s 4ms/step - loss: 1.0159 - accuracy: 0.8103\n",
            "Epoch 4/4\n",
            "600/600 [==============================] - 2s 4ms/step - loss: 0.8144 - accuracy: 0.8338\n",
            "313/313 [==============================] - 1s 2ms/step - loss: 0.7236 - accuracy: 0.8499\n"
          ]
        },
        {
          "output_type": "display_data",
          "data": {
            "text/plain": [
              "<Figure size 432x288 with 1 Axes>"
            ],
            "image/png": "[encoded data removed]"
          },
          "metadata": {
            "needs_background": "light"
          }
        },
        {
          "output_type": "stream",
          "name": "stdout",
          "text": [
            "accuracy 0.8499000072479248\n",
            "\n",
            "Model: \"sequential_53\"\n",
            "_________________________________________________________________\n",
            " Layer (type)                Output Shape              Param #   \n",
            "=================================================================\n",
            " dense_128 (Dense)           (None, 256)               200960    \n",
            "                                                                 \n",
            " dense_129 (Dense)           (None, 10)                2570      \n",
            "                                                                 \n",
            "=================================================================\n",
            "Total params: 203,530\n",
            "Trainable params: 203,530\n",
            "Non-trainable params: 0\n",
            "_________________________________________________________________\n",
            "Epoch 1/4\n",
            "600/600 [==============================] - 3s 4ms/step - loss: 1.9093 - accuracy: 0.5702\n",
            "Epoch 2/4\n",
            "600/600 [==============================] - 2s 4ms/step - loss: 1.2996 - accuracy: 0.7577\n",
            "Epoch 3/4\n",
            "600/600 [==============================] - 2s 4ms/step - loss: 0.9539 - accuracy: 0.8084\n",
            "Epoch 4/4\n",
            "600/600 [==============================] - 3s 5ms/step - loss: 0.7703 - accuracy: 0.8327\n",
            "313/313 [==============================] - 1s 2ms/step - loss: 0.6868 - accuracy: 0.8512\n"
          ]
        },
        {
          "output_type": "display_data",
          "data": {
            "text/plain": [
              "<Figure size 432x288 with 1 Axes>"
            ],
            "image/png": "[encoded data removed]"
          },
          "metadata": {
            "needs_background": "light"
          }
        },
        {
          "output_type": "stream",
          "name": "stdout",
          "text": [
            "accuracy 0.8511999845504761\n",
            "\n"
          ]
        }
      ],
      "source": [
        "for input in [32, 64, 128, 256]:\n",
        "    model = create_model([input],'sigmoid')\n",
        "    evaluate(model)\n",
        "    print()"
      ]
    },
    {
      "cell_type": "markdown",
      "metadata": {
        "id": "q9grMAPATT5F"
      },
      "source": [
        "#### 3.15 入力数を増やした結果、層を増やした結果より効果が得られました。モデルは複雑になり過ぎず、簡単になり過ぎず、様々な条件を試行して、良いバランスを目指す必要があります。活性化関数を「relu」に変更し、その他は「3.11」の条件で精度を確認してみて下さい。"
      ]
    },
    {
      "cell_type": "code",
      "execution_count": 612,
      "metadata": {
        "id": "Ya71u0H_TT5F",
        "colab": {
          "base_uri": "https://localhost:8080/",
          "height": 1000
        },
        "outputId": "9392e110-4e81-42ee-b62a-093acd1e5584"
      },
      "outputs": [
        {
          "output_type": "stream",
          "name": "stdout",
          "text": [
            "Model: \"sequential_54\"\n",
            "_________________________________________________________________\n",
            " Layer (type)                Output Shape              Param #   \n",
            "=================================================================\n",
            " dense_130 (Dense)           (None, 32)                25120     \n",
            "                                                                 \n",
            " dense_131 (Dense)           (None, 10)                330       \n",
            "                                                                 \n",
            "=================================================================\n",
            "Total params: 25,450\n",
            "Trainable params: 25,450\n",
            "Non-trainable params: 0\n",
            "_________________________________________________________________\n",
            "Epoch 1/4\n",
            "600/600 [==============================] - 2s 2ms/step - loss: 1.2150 - accuracy: 0.6873\n",
            "Epoch 2/4\n",
            "600/600 [==============================] - 1s 2ms/step - loss: 0.5389 - accuracy: 0.8628\n",
            "Epoch 3/4\n",
            "600/600 [==============================] - 1s 2ms/step - loss: 0.4312 - accuracy: 0.8829\n",
            "Epoch 4/4\n",
            "600/600 [==============================] - 1s 2ms/step - loss: 0.3851 - accuracy: 0.8929\n",
            "313/313 [==============================] - 1s 1ms/step - loss: 0.3518 - accuracy: 0.9039\n"
          ]
        },
        {
          "output_type": "display_data",
          "data": {
            "text/plain": [
              "<Figure size 432x288 with 1 Axes>"
            ],
            "image/png": "[encoded data removed]"
          },
          "metadata": {
            "needs_background": "light"
          }
        },
        {
          "output_type": "stream",
          "name": "stdout",
          "text": [
            "accuracy 0.9039000272750854\n",
            "Model: \"sequential_55\"\n",
            "_________________________________________________________________\n",
            " Layer (type)                Output Shape              Param #   \n",
            "=================================================================\n",
            " dense_132 (Dense)           (None, 32)                25120     \n",
            "                                                                 \n",
            " dense_133 (Dense)           (None, 32)                1056      \n",
            "                                                                 \n",
            " dense_134 (Dense)           (None, 10)                330       \n",
            "                                                                 \n",
            "=================================================================\n",
            "Total params: 26,506\n",
            "Trainable params: 26,506\n",
            "Non-trainable params: 0\n",
            "_________________________________________________________________\n",
            "Epoch 1/4\n",
            "600/600 [==============================] - 2s 2ms/step - loss: 1.4119 - accuracy: 0.6164\n",
            "Epoch 2/4\n",
            "600/600 [==============================] - 1s 2ms/step - loss: 0.5190 - accuracy: 0.8622\n",
            "Epoch 3/4\n",
            "600/600 [==============================] - 1s 2ms/step - loss: 0.4020 - accuracy: 0.8866\n",
            "Epoch 4/4\n",
            "600/600 [==============================] - 1s 2ms/step - loss: 0.3571 - accuracy: 0.8979\n",
            "313/313 [==============================] - 1s 1ms/step - loss: 0.3316 - accuracy: 0.9052\n"
          ]
        },
        {
          "output_type": "display_data",
          "data": {
            "text/plain": [
              "<Figure size 432x288 with 1 Axes>"
            ],
            "image/png": "[encoded data removed]"
          },
          "metadata": {
            "needs_background": "light"
          }
        },
        {
          "output_type": "stream",
          "name": "stdout",
          "text": [
            "accuracy 0.9052000045776367\n",
            "Model: \"sequential_56\"\n",
            "_________________________________________________________________\n",
            " Layer (type)                Output Shape              Param #   \n",
            "=================================================================\n",
            " dense_135 (Dense)           (None, 32)                25120     \n",
            "                                                                 \n",
            " dense_136 (Dense)           (None, 32)                1056      \n",
            "                                                                 \n",
            " dense_137 (Dense)           (None, 32)                1056      \n",
            "                                                                 \n",
            " dense_138 (Dense)           (None, 10)                330       \n",
            "                                                                 \n",
            "=================================================================\n",
            "Total params: 27,562\n",
            "Trainable params: 27,562\n",
            "Non-trainable params: 0\n",
            "_________________________________________________________________\n",
            "Epoch 1/4\n",
            "600/600 [==============================] - 3s 4ms/step - loss: 1.6200 - accuracy: 0.4854\n",
            "Epoch 2/4\n",
            "600/600 [==============================] - 1s 2ms/step - loss: 0.5682 - accuracy: 0.8398\n",
            "Epoch 3/4\n",
            "600/600 [==============================] - 1s 2ms/step - loss: 0.3963 - accuracy: 0.8867\n",
            "Epoch 4/4\n",
            "600/600 [==============================] - 1s 2ms/step - loss: 0.3347 - accuracy: 0.9025\n",
            "313/313 [==============================] - 1s 2ms/step - loss: 0.2999 - accuracy: 0.9142\n"
          ]
        },
        {
          "output_type": "display_data",
          "data": {
            "text/plain": [
              "<Figure size 432x288 with 1 Axes>"
            ],
            "image/png": "[encoded data removed]"
          },
          "metadata": {
            "needs_background": "light"
          }
        },
        {
          "output_type": "stream",
          "name": "stdout",
          "text": [
            "accuracy 0.9142000079154968\n"
          ]
        }
      ],
      "source": [
        "image_size = 784\n",
        "num_classes = 10\n",
        "activation = 'relu'\n",
        "\n",
        "for layers in range(1,4):\n",
        "    model = create_model([32] * layers, activation)\n",
        "    evaluate(model)\n",
        "\n"
      ]
    },
    {
      "cell_type": "markdown",
      "metadata": {
        "id": "CKlfPaQgTT5F"
      },
      "source": [
        "#### 3.16 活性化関数は「sigmoid」ではなく「relu」を使用した方が、一般的には良い精度が得られることが多いです。compileの最適化関数も変更してみましょう。「sgd」から「rmsprop」に変更して精度を確認して下さい。※データによって「最適なモデル」の条件は異なります。様々な観点で試行していくことが重要です。"
      ]
    },
    {
      "cell_type": "code",
      "execution_count": 613,
      "metadata": {
        "id": "VPZjfiezTT5F",
        "colab": {
          "base_uri": "https://localhost:8080/",
          "height": 1000
        },
        "outputId": "a57eb055-336b-4c55-f8c4-dd296cd4af97"
      },
      "outputs": [
        {
          "output_type": "stream",
          "name": "stdout",
          "text": [
            "Model: \"sequential_57\"\n",
            "_________________________________________________________________\n",
            " Layer (type)                Output Shape              Param #   \n",
            "=================================================================\n",
            " dense_139 (Dense)           (None, 32)                25120     \n",
            "                                                                 \n",
            " dense_140 (Dense)           (None, 10)                330       \n",
            "                                                                 \n",
            "=================================================================\n",
            "Total params: 25,450\n",
            "Trainable params: 25,450\n",
            "Non-trainable params: 0\n",
            "_________________________________________________________________\n",
            "Epoch 1/4\n",
            "600/600 [==============================] - 2s 2ms/step - loss: 1.1887 - accuracy: 0.7027\n",
            "Epoch 2/4\n",
            "600/600 [==============================] - 1s 2ms/step - loss: 0.5297 - accuracy: 0.8661\n",
            "Epoch 3/4\n",
            "600/600 [==============================] - 1s 2ms/step - loss: 0.4241 - accuracy: 0.8875\n",
            "Epoch 4/4\n",
            "600/600 [==============================] - 2s 3ms/step - loss: 0.3792 - accuracy: 0.8954\n",
            "313/313 [==============================] - 1s 1ms/step - loss: 0.3458 - accuracy: 0.9042\n"
          ]
        },
        {
          "output_type": "display_data",
          "data": {
            "text/plain": [
              "<Figure size 432x288 with 1 Axes>"
            ],
            "image/png": "[encoded data removed]"
          },
          "metadata": {
            "needs_background": "light"
          }
        },
        {
          "output_type": "stream",
          "name": "stdout",
          "text": [
            "accuracy 0.90420001745224\n",
            "Model: \"sequential_58\"\n",
            "_________________________________________________________________\n",
            " Layer (type)                Output Shape              Param #   \n",
            "=================================================================\n",
            " dense_141 (Dense)           (None, 32)                25120     \n",
            "                                                                 \n",
            " dense_142 (Dense)           (None, 32)                1056      \n",
            "                                                                 \n",
            " dense_143 (Dense)           (None, 10)                330       \n",
            "                                                                 \n",
            "=================================================================\n",
            "Total params: 26,506\n",
            "Trainable params: 26,506\n",
            "Non-trainable params: 0\n",
            "_________________________________________________________________\n",
            "Epoch 1/4\n",
            "600/600 [==============================] - 2s 2ms/step - loss: 1.3834 - accuracy: 0.6162\n",
            "Epoch 2/4\n",
            "600/600 [==============================] - 1s 2ms/step - loss: 0.5301 - accuracy: 0.8592\n",
            "Epoch 3/4\n",
            "600/600 [==============================] - 1s 2ms/step - loss: 0.3991 - accuracy: 0.8899\n",
            "Epoch 4/4\n",
            "600/600 [==============================] - 2s 4ms/step - loss: 0.3480 - accuracy: 0.9017\n",
            "313/313 [==============================] - 1s 2ms/step - loss: 0.3189 - accuracy: 0.9118\n"
          ]
        },
        {
          "output_type": "display_data",
          "data": {
            "text/plain": [
              "<Figure size 432x288 with 1 Axes>"
            ],
            "image/png": "[encoded data removed]"
          },
          "metadata": {
            "needs_background": "light"
          }
        },
        {
          "output_type": "stream",
          "name": "stdout",
          "text": [
            "accuracy 0.9118000268936157\n",
            "Model: \"sequential_59\"\n",
            "_________________________________________________________________\n",
            " Layer (type)                Output Shape              Param #   \n",
            "=================================================================\n",
            " dense_144 (Dense)           (None, 32)                25120     \n",
            "                                                                 \n",
            " dense_145 (Dense)           (None, 32)                1056      \n",
            "                                                                 \n",
            " dense_146 (Dense)           (None, 32)                1056      \n",
            "                                                                 \n",
            " dense_147 (Dense)           (None, 10)                330       \n",
            "                                                                 \n",
            "=================================================================\n",
            "Total params: 27,562\n",
            "Trainable params: 27,562\n",
            "Non-trainable params: 0\n",
            "_________________________________________________________________\n",
            "Epoch 1/4\n",
            "600/600 [==============================] - 2s 2ms/step - loss: 1.6488 - accuracy: 0.4910\n",
            "Epoch 2/4\n",
            "600/600 [==============================] - 1s 2ms/step - loss: 0.5751 - accuracy: 0.8402\n",
            "Epoch 3/4\n",
            "600/600 [==============================] - 1s 2ms/step - loss: 0.4081 - accuracy: 0.8848\n",
            "Epoch 4/4\n",
            "600/600 [==============================] - 1s 2ms/step - loss: 0.3496 - accuracy: 0.9006\n",
            "313/313 [==============================] - 1s 1ms/step - loss: 0.3153 - accuracy: 0.9111\n"
          ]
        },
        {
          "output_type": "display_data",
          "data": {
            "text/plain": [
              "<Figure size 432x288 with 1 Axes>"
            ],
            "image/png": "[encoded data removed]"
          },
          "metadata": {
            "needs_background": "light"
          }
        },
        {
          "output_type": "stream",
          "name": "stdout",
          "text": [
            "accuracy 0.9110999703407288\n"
          ]
        }
      ],
      "source": [
        "image_size = 784\n",
        "num_classes = 10\n",
        "activation = 'relu'\n",
        "\n",
        "model.compile(optimizer = 'rmsprop',\n",
        "              loss = 'categorical_crossentropy',\n",
        "              metrics = ['accuracy'])\n",
        "\n",
        "for layers in range(1,4):\n",
        "    model = create_model([32] * layers, activation)\n",
        "    evaluate(model)"
      ]
    },
    {
      "cell_type": "markdown",
      "metadata": {
        "id": "OwGMSTDyTT5F"
      },
      "source": [
        "#### 3.17 約90%程度正解率があるようです。「3.16」で作成したモデルで（X_test[0]）に対して予測結果を出力してみましょう。"
      ]
    },
    {
      "cell_type": "code",
      "execution_count": 614,
      "metadata": {
        "id": "3Iw-Cb7zTT5G",
        "colab": {
          "base_uri": "https://localhost:8080/"
        },
        "outputId": "ee43f9ef-4b94-473f-d232-675f2e0897d0"
      },
      "outputs": [
        {
          "output_type": "stream",
          "name": "stdout",
          "text": [
            "313/313 [==============================] - 0s 1ms/step\n"
          ]
        },
        {
          "output_type": "execute_result",
          "data": {
            "text/plain": [
              "array([7.4397423e-04, 6.6017237e-05, 1.0424472e-03, 5.7630258e-04,\n",
              "       5.0075148e-05, 3.8923267e-03, 3.9593870e-06, 9.8001069e-01,\n",
              "       7.1889244e-04, 1.2895216e-02], dtype=float32)"
            ]
          },
          "metadata": {},
          "execution_count": 614
        }
      ],
      "source": [
        "model.predict(X_test)[0]"
      ]
    },
    {
      "cell_type": "markdown",
      "metadata": {
        "id": "-eOPCCzyTT5G"
      },
      "source": [
        "#### 3.18 配列のままだと少し分かりづらいので、結果をグラフ化してみましょう。"
      ]
    },
    {
      "cell_type": "code",
      "execution_count": 615,
      "metadata": {
        "id": "_II4yiccTT5G",
        "colab": {
          "base_uri": "https://localhost:8080/",
          "height": 302
        },
        "outputId": "80a1d5e9-1a0a-4080-f1f4-1c76cc2a0973"
      },
      "outputs": [
        {
          "output_type": "stream",
          "name": "stdout",
          "text": [
            "313/313 [==============================] - 0s 1ms/step\n"
          ]
        },
        {
          "output_type": "execute_result",
          "data": {
            "text/plain": [
              "<matplotlib.axes._subplots.AxesSubplot at 0x7f080776c670>"
            ]
          },
          "metadata": {},
          "execution_count": 615
        },
        {
          "output_type": "display_data",
          "data": {
            "text/plain": [
              "<Figure size 432x288 with 1 Axes>"
            ],
            "image/png": "[encoded data removed]"
          },
          "metadata": {
            "needs_background": "light"
          }
        }
      ],
      "source": [
        "pd.Series(model.predict(X_test)[0]).plot()"
      ]
    },
    {
      "cell_type": "markdown",
      "metadata": {
        "id": "KxrvhxJTTT5G"
      },
      "source": [
        "#### 3.19 「7」と言う予測結果が出ています。「1.9」の方法で実際のデータの結果を確認してみましょう。"
      ]
    },
    {
      "cell_type": "code",
      "execution_count": 616,
      "metadata": {
        "id": "QXTDXtV1TT5G",
        "colab": {
          "base_uri": "https://localhost:8080/",
          "height": 265
        },
        "outputId": "5ffa16cd-fe6c-49fb-ec71-33177b992eb5"
      },
      "outputs": [
        {
          "output_type": "display_data",
          "data": {
            "text/plain": [
              "<Figure size 432x288 with 1 Axes>"
            ],
            "image/png": "[encoded data removed]"
          },
          "metadata": {
            "needs_background": "light"
          }
        }
      ],
      "source": [
        "digit = X_test[0].reshape(28,28)\n",
        "plt.imshow(digit, cmap='Greys')\n",
        "plt.show()"
      ]
    },
    {
      "cell_type": "markdown",
      "metadata": {
        "id": "VgQVpgRyTT5G"
      },
      "source": [
        "### 4.CNNについて学習します。"
      ]
    },
    {
      "cell_type": "markdown",
      "metadata": {
        "id": "jy_ZnWKmTT5G"
      },
      "source": [
        "#### 4.1 Sequentialのクラスを読み込み、modelという変数に格納して下さい。※先程作成したモデルが初期化されます。"
      ]
    },
    {
      "cell_type": "code",
      "execution_count": 617,
      "metadata": {
        "id": "4WsMP9auTT5G",
        "colab": {
          "base_uri": "https://localhost:8080/"
        },
        "outputId": "de8e381d-7f3f-47c6-8f35-ab3c91511123"
      },
      "outputs": [
        {
          "output_type": "execute_result",
          "data": {
            "text/plain": [
              "<keras.engine.sequential.Sequential at 0x7f085ec7f940>"
            ]
          },
          "metadata": {},
          "execution_count": 617
        }
      ],
      "source": [
        "model = Sequential()\n",
        "model"
      ]
    },
    {
      "cell_type": "markdown",
      "metadata": {
        "id": "vWQ2Cm22TT5G"
      },
      "source": [
        "#### 4.2 CNNの入力は画像の形式のまま扱う必要があります。X_trainとX_testの形状を画像の形式に変更して下さい。"
      ]
    },
    {
      "cell_type": "code",
      "execution_count": 618,
      "metadata": {
        "id": "0ot1Ar5iTT5G",
        "colab": {
          "base_uri": "https://localhost:8080/"
        },
        "outputId": "650170a1-823f-4c82-ce2b-824663101821"
      },
      "outputs": [
        {
          "output_type": "stream",
          "name": "stdout",
          "text": [
            "X_train: (60000, 28, 28, 1)\n",
            "X_test: (10000, 28, 28, 1)\n"
          ]
        }
      ],
      "source": [
        "X_train = X_train.reshape(60000, 28, 28, 1)\n",
        "X_test = X_test.reshape(10000, 28, 28, 1)\n",
        "print('X_train:', X_train.shape)\n",
        "print('X_test:', X_test.shape)"
      ]
    },
    {
      "cell_type": "markdown",
      "metadata": {
        "id": "wjRCKqqSTT5G"
      },
      "source": [
        "#### 4.3 CNNを構築していきましょう。先ずは活性化関数を「relu」に設定してコンボリューション層を追加し、summaryを出力して下さい。※ヒント：output shapeの形からストライド（移動する幅）の数を推定しましょう。"
      ]
    },
    {
      "cell_type": "markdown",
      "source": [
        "参考：https://di-acc2.com/programming/python/10378/"
      ],
      "metadata": {
        "id": "dJZTjBZWcApZ"
      }
    },
    {
      "cell_type": "code",
      "execution_count": 619,
      "metadata": {
        "id": "fYI-SWswTT5G",
        "colab": {
          "base_uri": "https://localhost:8080/"
        },
        "outputId": "2444cd09-46fc-41b1-fda2-b84ccdaeb17a"
      },
      "outputs": [
        {
          "output_type": "stream",
          "name": "stdout",
          "text": [
            "Model: \"sequential_60\"\n",
            "_________________________________________________________________\n",
            " Layer (type)                Output Shape              Param #   \n",
            "=================================================================\n",
            " conv2d_6 (Conv2D)           (None, 26, 26, 32)        320       \n",
            "                                                                 \n",
            "=================================================================\n",
            "Total params: 320\n",
            "Trainable params: 320\n",
            "Non-trainable params: 0\n",
            "_________________________________________________________________\n"
          ]
        }
      ],
      "source": [
        "from keras.layers import Activation, Conv2D, Flatten, Dense,Dropout\n",
        "model.add(Conv2D(32, (3, 3), activation='relu', input_shape=(28, 28, 1)))\n",
        "model.summary()"
      ]
    },
    {
      "cell_type": "markdown",
      "metadata": {
        "id": "OHQmL4qHTT5G"
      },
      "source": [
        "#### 4.4 CNNはコンボリューション層とプーリング層を交互に組み合わせます。プーリング層を追加し、summaryを出力して下さい。※ヒント：output shapeの形からpool_sizeの数を推定しましょう。"
      ]
    },
    {
      "cell_type": "code",
      "execution_count": 620,
      "metadata": {
        "id": "4FYeG12UTT5H",
        "colab": {
          "base_uri": "https://localhost:8080/"
        },
        "outputId": "045a942f-2821-405a-a559-716cb6c26076"
      },
      "outputs": [
        {
          "output_type": "stream",
          "name": "stdout",
          "text": [
            "Model: \"sequential_60\"\n",
            "_________________________________________________________________\n",
            " Layer (type)                Output Shape              Param #   \n",
            "=================================================================\n",
            " conv2d_6 (Conv2D)           (None, 26, 26, 32)        320       \n",
            "                                                                 \n",
            " max_pooling2d_3 (MaxPooling  (None, 13, 13, 32)       0         \n",
            " 2D)                                                             \n",
            "                                                                 \n",
            "=================================================================\n",
            "Total params: 320\n",
            "Trainable params: 320\n",
            "Non-trainable params: 0\n",
            "_________________________________________________________________\n"
          ]
        }
      ],
      "source": [
        "from keras.layers import Conv2D, MaxPooling2D\n",
        "\n",
        "model.add(MaxPooling2D(pool_size=(2,2)))\n",
        "model.summary()"
      ]
    },
    {
      "cell_type": "markdown",
      "metadata": {
        "id": "6Cp061pBTT5H"
      },
      "source": [
        "#### 4.5 「4.3」と同じ要領でコンボリューション層を追加しましょう。"
      ]
    },
    {
      "cell_type": "code",
      "execution_count": 621,
      "metadata": {
        "id": "qOOf2cDSTT5H",
        "colab": {
          "base_uri": "https://localhost:8080/"
        },
        "outputId": "0b935118-d5d6-4070-f1f3-55c0517cadaa"
      },
      "outputs": [
        {
          "output_type": "stream",
          "name": "stdout",
          "text": [
            "Model: \"sequential_60\"\n",
            "_________________________________________________________________\n",
            " Layer (type)                Output Shape              Param #   \n",
            "=================================================================\n",
            " conv2d_6 (Conv2D)           (None, 26, 26, 32)        320       \n",
            "                                                                 \n",
            " max_pooling2d_3 (MaxPooling  (None, 13, 13, 32)       0         \n",
            " 2D)                                                             \n",
            "                                                                 \n",
            " conv2d_7 (Conv2D)           (None, 11, 11, 32)        9248      \n",
            "                                                                 \n",
            "=================================================================\n",
            "Total params: 9,568\n",
            "Trainable params: 9,568\n",
            "Non-trainable params: 0\n",
            "_________________________________________________________________\n"
          ]
        }
      ],
      "source": [
        "model.add(Conv2D(32, (3, 3), activation='relu'))\n",
        "model.summary()"
      ]
    },
    {
      "cell_type": "markdown",
      "metadata": {
        "id": "On6n8DeHTT5H"
      },
      "source": [
        "#### 4.6 コンボリューション層とプーリング層の出力が3次元であることが分かります。また画像のサイズ（高さ、幅）は層を経るにつれて、縮小していることが分かります。次の手順は3次元の出力をDense層に入力することですが、その前に1次元に変換する必要があります。1次元に変換する「変換層」を追加し、summaryの内容を確認して下さい。"
      ]
    },
    {
      "cell_type": "code",
      "execution_count": 622,
      "metadata": {
        "id": "VCmn2ULATT5H",
        "colab": {
          "base_uri": "https://localhost:8080/"
        },
        "outputId": "9af3b7bb-b469-4dde-a0ae-032da2d3ebdd"
      },
      "outputs": [
        {
          "output_type": "stream",
          "name": "stdout",
          "text": [
            "Model: \"sequential_60\"\n",
            "_________________________________________________________________\n",
            " Layer (type)                Output Shape              Param #   \n",
            "=================================================================\n",
            " conv2d_6 (Conv2D)           (None, 26, 26, 32)        320       \n",
            "                                                                 \n",
            " max_pooling2d_3 (MaxPooling  (None, 13, 13, 32)       0         \n",
            " 2D)                                                             \n",
            "                                                                 \n",
            " conv2d_7 (Conv2D)           (None, 11, 11, 32)        9248      \n",
            "                                                                 \n",
            " flatten_3 (Flatten)         (None, 3872)              0         \n",
            "                                                                 \n",
            "=================================================================\n",
            "Total params: 9,568\n",
            "Trainable params: 9,568\n",
            "Non-trainable params: 0\n",
            "_________________________________________________________________\n"
          ]
        }
      ],
      "source": [
        "model.add(Flatten())\n",
        "model.summary()"
      ]
    },
    {
      "cell_type": "markdown",
      "metadata": {
        "id": "p5E-GgfKTT5H"
      },
      "source": [
        "#### 4.7 Dense層を追加した後、ソフトマックス関数を用いて、出力層を追加して下さい。"
      ]
    },
    {
      "cell_type": "code",
      "execution_count": 623,
      "metadata": {
        "id": "ywQz57vbTT5H",
        "colab": {
          "base_uri": "https://localhost:8080/"
        },
        "outputId": "75d25cd3-d45d-4865-f928-977cad21cf33"
      },
      "outputs": [
        {
          "output_type": "stream",
          "name": "stdout",
          "text": [
            "Model: \"sequential_60\"\n",
            "_________________________________________________________________\n",
            " Layer (type)                Output Shape              Param #   \n",
            "=================================================================\n",
            " conv2d_6 (Conv2D)           (None, 26, 26, 32)        320       \n",
            "                                                                 \n",
            " max_pooling2d_3 (MaxPooling  (None, 13, 13, 32)       0         \n",
            " 2D)                                                             \n",
            "                                                                 \n",
            " conv2d_7 (Conv2D)           (None, 11, 11, 32)        9248      \n",
            "                                                                 \n",
            " flatten_3 (Flatten)         (None, 3872)              0         \n",
            "                                                                 \n",
            " dense_148 (Dense)           (None, 32)                123936    \n",
            "                                                                 \n",
            " dense_149 (Dense)           (None, 10)                330       \n",
            "                                                                 \n",
            "=================================================================\n",
            "Total params: 133,834\n",
            "Trainable params: 133,834\n",
            "Non-trainable params: 0\n",
            "_________________________________________________________________\n"
          ]
        }
      ],
      "source": [
        "model.add(Dense(32, activation='relu'))\n",
        "model.add(Dense(10, activation='softmax'))\n",
        "model.summary()"
      ]
    },
    {
      "cell_type": "markdown",
      "metadata": {
        "id": "GXtISr4gTT5H"
      },
      "source": [
        "#### 4.8 「3.5」の条件でcompileを設定し、epochsは「4」、batch_sizeは「100」に設定して学習を行って下さい。"
      ]
    },
    {
      "cell_type": "code",
      "execution_count": 624,
      "metadata": {
        "id": "pl9Nd0pnTT5H",
        "colab": {
          "base_uri": "https://localhost:8080/"
        },
        "outputId": "d3cdf2b1-5c84-4252-c7cb-01db1fcb15b7"
      },
      "outputs": [
        {
          "output_type": "stream",
          "name": "stdout",
          "text": [
            "Epoch 1/4\n",
            "600/600 [==============================] - 39s 64ms/step - loss: 0.7631 - acc: 0.7762\n",
            "Epoch 2/4\n",
            "600/600 [==============================] - 39s 64ms/step - loss: 0.2975 - acc: 0.9108\n",
            "Epoch 3/4\n",
            "600/600 [==============================] - 38s 64ms/step - loss: 0.2284 - acc: 0.9317\n",
            "Epoch 4/4\n",
            "600/600 [==============================] - 38s 64ms/step - loss: 0.1834 - acc: 0.9455\n"
          ]
        },
        {
          "output_type": "execute_result",
          "data": {
            "text/plain": [
              "<keras.callbacks.History at 0x7f083fbec760>"
            ]
          },
          "metadata": {},
          "execution_count": 624
        }
      ],
      "source": [
        "model.compile(loss='categorical_crossentropy',\n",
        "              optimizer='sgd',\n",
        "              metrics=['acc'])\n",
        "\n",
        "model.fit(X_train, y_train, batch_size=100, epochs=4)"
      ]
    },
    {
      "cell_type": "markdown",
      "metadata": {
        "id": "koyVIoWATT5H"
      },
      "source": [
        "#### 4.9 CNNを使用することでかなりの高精度が実現できました。画像データは良い特徴量を内部で作り出せるCNNが適しています。最後に最適化手法の「rmsprop」を「4.8」と同様の条件で学習を行って下さい。※モデルは初期化して下さい。"
      ]
    },
    {
      "cell_type": "code",
      "execution_count": 625,
      "metadata": {
        "id": "2DrVVeCeTT5H",
        "colab": {
          "base_uri": "https://localhost:8080/"
        },
        "outputId": "f3e7050c-6a6c-41da-d1d5-3feca599fb78"
      },
      "outputs": [
        {
          "output_type": "stream",
          "name": "stdout",
          "text": [
            "Model: \"sequential_61\"\n",
            "_________________________________________________________________\n",
            " Layer (type)                Output Shape              Param #   \n",
            "=================================================================\n",
            " conv2d_8 (Conv2D)           (None, 26, 26, 32)        320       \n",
            "                                                                 \n",
            " max_pooling2d_4 (MaxPooling  (None, 13, 13, 32)       0         \n",
            " 2D)                                                             \n",
            "                                                                 \n",
            " conv2d_9 (Conv2D)           (None, 11, 11, 32)        9248      \n",
            "                                                                 \n",
            " flatten_4 (Flatten)         (None, 3872)              0         \n",
            "                                                                 \n",
            " dense_150 (Dense)           (None, 32)                123936    \n",
            "                                                                 \n",
            " dense_151 (Dense)           (None, 10)                330       \n",
            "                                                                 \n",
            "=================================================================\n",
            "Total params: 133,834\n",
            "Trainable params: 133,834\n",
            "Non-trainable params: 0\n",
            "_________________________________________________________________\n",
            "Epoch 1/4\n",
            "600/600 [==============================] - 41s 67ms/step - loss: 0.2171 - acc: 0.9342\n",
            "Epoch 2/4\n",
            "600/600 [==============================] - 39s 65ms/step - loss: 0.0628 - acc: 0.9814\n",
            "Epoch 3/4\n",
            "600/600 [==============================] - 39s 65ms/step - loss: 0.0425 - acc: 0.9867\n",
            "Epoch 4/4\n",
            "600/600 [==============================] - 39s 65ms/step - loss: 0.0318 - acc: 0.9903\n"
          ]
        },
        {
          "output_type": "execute_result",
          "data": {
            "text/plain": [
              "<keras.callbacks.History at 0x7f0825639910>"
            ]
          },
          "metadata": {},
          "execution_count": 625
        }
      ],
      "source": [
        "model = Sequential()\n",
        "\n",
        "model.add(Conv2D(32,(3,3), activation='relu', input_shape=(28,28,1)))\n",
        "model.add(MaxPooling2D(pool_size=(2,2)))\n",
        "model.add(Conv2D(32,(3,3), activation='relu'))\n",
        "model.add(Flatten())\n",
        "model.add(Dense(32, activation='relu'))\n",
        "model.add(Dense(10, activation='softmax'))\n",
        "\n",
        "model.summary()\n",
        "\n",
        "model.compile(loss='categorical_crossentropy',\n",
        "              optimizer='rmsprop',\n",
        "              metrics=['acc'])\n",
        "\n",
        "model.fit(X_train, y_train, batch_size=100, epochs=4)"
      ]
    },
    {
      "cell_type": "markdown",
      "metadata": {
        "id": "O2BPa0i5TT5H"
      },
      "source": [
        "#### 4.10 学習データに対して約99%程度正解率があるようです。「4.9」で作成したモデルで（X_test[0]）に対して予測結果を出力してみましょう。※「3.17」と数字を比較して見て下さい。"
      ]
    },
    {
      "cell_type": "code",
      "execution_count": 626,
      "metadata": {
        "id": "y7YHl8XlTT5I",
        "colab": {
          "base_uri": "https://localhost:8080/"
        },
        "outputId": "3ee2b329-90ee-47d3-a102-8f351c97afa9"
      },
      "outputs": [
        {
          "output_type": "stream",
          "name": "stdout",
          "text": [
            "313/313 [==============================] - 2s 6ms/step\n"
          ]
        },
        {
          "output_type": "execute_result",
          "data": {
            "text/plain": [
              "array([3.6189777e-11, 8.0570349e-11, 1.7956969e-08, 4.2986017e-07,\n",
              "       8.9785986e-13, 8.5547056e-12, 7.0559757e-17, 9.9999946e-01,\n",
              "       2.3750590e-11, 6.2169572e-09], dtype=float32)"
            ]
          },
          "metadata": {},
          "execution_count": 626
        }
      ],
      "source": [
        "model.predict(X_test)[0]"
      ]
    },
    {
      "cell_type": "markdown",
      "metadata": {
        "id": "2aeeGMB_TT5I"
      },
      "source": [
        "#### 4.11 配列のままだと少し分かりづらいので、結果をグラフ化してみましょう。※ディープラーニングより「7」の値が1に近く、確信度が上がっていることが分かります。（より自信を持って「1」ということができている。）"
      ]
    },
    {
      "cell_type": "code",
      "execution_count": 627,
      "metadata": {
        "id": "Q18WlcXxTT5I",
        "colab": {
          "base_uri": "https://localhost:8080/",
          "height": 302
        },
        "outputId": "77924c4c-f739-493e-e982-e9b9bd529228"
      },
      "outputs": [
        {
          "output_type": "stream",
          "name": "stdout",
          "text": [
            "313/313 [==============================] - 2s 6ms/step\n"
          ]
        },
        {
          "output_type": "execute_result",
          "data": {
            "text/plain": [
              "<matplotlib.axes._subplots.AxesSubplot at 0x7f0842e4cd30>"
            ]
          },
          "metadata": {},
          "execution_count": 627
        },
        {
          "output_type": "display_data",
          "data": {
            "text/plain": [
              "<Figure size 432x288 with 1 Axes>"
            ],
            "image/png": "[encoded data removed]"
          },
          "metadata": {
            "needs_background": "light"
          }
        }
      ],
      "source": [
        "pd.Series(model.predict(X_test)[0]).plot()"
      ]
    },
    {
      "cell_type": "markdown",
      "metadata": {
        "id": "86FE1Ax-TT5I"
      },
      "source": [
        "#### 4.12 「7」と言う予測結果が出ています。「1.9」の方法で実際のデータの結果を確認してみましょう。"
      ]
    },
    {
      "cell_type": "code",
      "execution_count": 628,
      "metadata": {
        "id": "ahUtJoWfTT5I",
        "colab": {
          "base_uri": "https://localhost:8080/",
          "height": 265
        },
        "outputId": "34a646c3-8403-4a72-a728-72cc2c53d265"
      },
      "outputs": [
        {
          "output_type": "display_data",
          "data": {
            "text/plain": [
              "<Figure size 432x288 with 1 Axes>"
            ],
            "image/png": "[encoded data removed]"
          },
          "metadata": {
            "needs_background": "light"
          }
        }
      ],
      "source": [
        "digit = X_test[0].reshape(28,28)\n",
        "plt.imshow(digit, cmap='Greys')\n",
        "plt.show()"
      ]
    },
    {
      "cell_type": "markdown",
      "metadata": {
        "id": "Tt6kiNScTT5I"
      },
      "source": [
        "#### 4.13 コンボリューション層で行っている処理のイメージを掴んでみましょう。下記の様な5×5の乱数行列を作成して下さい。※seedを0で固定して下さい。"
      ]
    },
    {
      "cell_type": "code",
      "execution_count": 629,
      "metadata": {
        "id": "UA_nyhalTT5I",
        "colab": {
          "base_uri": "https://localhost:8080/"
        },
        "outputId": "e123ae78-1913-489d-a469-80e6b15b881d"
      },
      "outputs": [
        {
          "output_type": "execute_result",
          "data": {
            "text/plain": [
              "array([[0.5488135 , 0.71518937, 0.60276338, 0.54488318, 0.4236548 ],\n",
              "       [0.64589411, 0.43758721, 0.891773  , 0.96366276, 0.38344152],\n",
              "       [0.79172504, 0.52889492, 0.56804456, 0.92559664, 0.07103606],\n",
              "       [0.0871293 , 0.0202184 , 0.83261985, 0.77815675, 0.87001215],\n",
              "       [0.97861834, 0.79915856, 0.46147936, 0.78052918, 0.11827443]])"
            ]
          },
          "metadata": {},
          "execution_count": 629
        }
      ],
      "source": [
        "np.random.seed(0)\n",
        "img = np.random.rand(5,5)\n",
        "img"
      ]
    },
    {
      "cell_type": "markdown",
      "metadata": {
        "id": "8VbFo0iyTT5I"
      },
      "source": [
        "#### 4.14 コンボリューション層は画像データにカーネルをかけ合わせる（行列演算）を行うことで、畳み込まれた特徴を生成します。（特徴マップと言います）下記の様なカーネル（3×3の行列)を作成して下さい。※畳み込み操作を行う為のフィルタのことです。"
      ]
    },
    {
      "cell_type": "code",
      "execution_count": 630,
      "metadata": {
        "id": "m0mM8Y3YTT5I",
        "colab": {
          "base_uri": "https://localhost:8080/"
        },
        "outputId": "95943f22-3b46-407e-9b3d-cdb53bf63e36"
      },
      "outputs": [
        {
          "output_type": "execute_result",
          "data": {
            "text/plain": [
              "array([[1, 0, 1],\n",
              "       [0, 1, 0],\n",
              "       [1, 0, 1]])"
            ]
          },
          "metadata": {},
          "execution_count": 630
        }
      ],
      "source": [
        "tmp = np.array([[1, 0, 1],[0, 1, 0], [1, 0, 1]])\n",
        "tmp"
      ]
    },
    {
      "cell_type": "markdown",
      "metadata": {
        "id": "BljT7U5ITT5I"
      },
      "source": [
        "#### 4.15 「4.14」で作成したカーネルを「4.13」の疑似画像データにかけ合わせて（行列演算）下記の様な特徴マップを出力して下さい。"
      ]
    },
    {
      "cell_type": "markdown",
      "source": [
        "※要確認"
      ],
      "metadata": {
        "id": "ngCTagm02mLS"
      }
    },
    {
      "cell_type": "code",
      "execution_count": 631,
      "metadata": {
        "id": "DL8hhrwfTT5J",
        "colab": {
          "base_uri": "https://localhost:8080/"
        },
        "outputId": "0060556f-4cc5-4b5b-d842-58a83453afd4"
      },
      "outputs": [
        {
          "output_type": "execute_result",
          "data": {
            "text/plain": [
              "array([[2.94893369, 3.60633711, 2.62916156],\n",
              "       [2.98631118, 2.76766968, 3.90344315],\n",
              "       [2.8200857 , 3.86679914, 1.99699116]])"
            ]
          },
          "metadata": {},
          "execution_count": 631
        }
      ],
      "source": [
        "def conv2(X, k):\n",
        "    x_row, x_col = X.shape\n",
        "    k_row, k_col = k.shape\n",
        "    ret_row, ret_col = x_row - k_row + 1, x_col - k_col +1\n",
        "    ret = np.empty((ret_row, ret_col))\n",
        "    for y in range(ret_row):\n",
        "        for x in range(ret_col):\n",
        "            sub = X[y : y + k_row, x : x + k_row]\n",
        "            ret[y,x] = np.sum(sub * k)\n",
        "    return ret\n",
        "\n",
        "conv2(img,tmp)\n",
        "                  "
      ]
    },
    {
      "cell_type": "markdown",
      "metadata": {
        "id": "MnEkubM7TT5J"
      },
      "source": [
        "#### 4.16 プーリング層のイメージを掴んでみましょう。4.13と同じ、5×5の乱数行列を作成して下さい。※seedを0で固定して下さい。"
      ]
    },
    {
      "cell_type": "code",
      "execution_count": 632,
      "metadata": {
        "id": "CfwFZTjjTT5J",
        "colab": {
          "base_uri": "https://localhost:8080/"
        },
        "outputId": "56c1670d-7b6a-4250-85c6-be06e2c93088"
      },
      "outputs": [
        {
          "output_type": "execute_result",
          "data": {
            "text/plain": [
              "array([[0.5488135 , 0.71518937, 0.60276338, 0.54488318, 0.4236548 ],\n",
              "       [0.64589411, 0.43758721, 0.891773  , 0.96366276, 0.38344152],\n",
              "       [0.79172504, 0.52889492, 0.56804456, 0.92559664, 0.07103606],\n",
              "       [0.0871293 , 0.0202184 , 0.83261985, 0.77815675, 0.87001215],\n",
              "       [0.97861834, 0.79915856, 0.46147936, 0.78052918, 0.11827443]])"
            ]
          },
          "metadata": {},
          "execution_count": 632
        }
      ],
      "source": [
        "np.random.seed(0)\n",
        "img = np.random.rand(5,5)\n",
        "img"
      ]
    },
    {
      "cell_type": "markdown",
      "metadata": {
        "id": "_vxgmJzOTT5J"
      },
      "source": [
        "#### 4.17 下記の様な2×2の少領域毎に、最大の値を選択し、4×4の正方行列を作成して下さい。※Pooling層は大抵、Convolutoin層の後に適用されます。役割としては入力データをより扱いやすい形に変形するために、情報を圧縮することが目的です。「max_pooling」と呼ばれる処理になります。"
      ]
    },
    {
      "cell_type": "markdown",
      "source": [
        "※要確認"
      ],
      "metadata": {
        "id": "P8P1N4-Z3VpM"
      }
    },
    {
      "cell_type": "code",
      "execution_count": 633,
      "metadata": {
        "id": "VuV3iq_wTT5J",
        "colab": {
          "base_uri": "https://localhost:8080/"
        },
        "outputId": "f3cf39c0-5259-4e37-efe1-5ddfafc7d23b"
      },
      "outputs": [
        {
          "output_type": "execute_result",
          "data": {
            "text/plain": [
              "array([[0.71518934, 0.891773  , 0.96366274, 0.96366274],\n",
              "       [0.79172504, 0.891773  , 0.96366274, 0.96366274],\n",
              "       [0.79172504, 0.83261985, 0.92559665, 0.92559665],\n",
              "       [0.9786183 , 0.83261985, 0.83261985, 0.87001216]], dtype=float32)"
            ]
          },
          "metadata": {},
          "execution_count": 633
        }
      ],
      "source": [
        "out = np.zeros((4, 4), dtype=np.float32)\n",
        "\n",
        "for y in range(out.shape[0]):\n",
        "    for x in range(out.shape[1]):\n",
        "        out[y,x] = np.max(img[y:y+2,x:x+2])\n",
        "out"
      ]
    },
    {
      "cell_type": "markdown",
      "metadata": {
        "id": "ynbtL2SMTT5J"
      },
      "source": [
        "### 5. RNNについて学習します"
      ]
    },
    {
      "cell_type": "markdown",
      "metadata": {
        "id": "dZCMvPmJTT5J"
      },
      "source": [
        "#### 5.0 事前準備　下記コードを読み込んで下さい。"
      ]
    },
    {
      "cell_type": "code",
      "execution_count": 634,
      "metadata": {
        "colab": {
          "base_uri": "https://localhost:8080/",
          "height": 200
        },
        "id": "wbWcWc5PTT5J",
        "outputId": "fed4c0fc-fa54-4b50-dd74-81746b17ff72"
      },
      "outputs": [
        {
          "output_type": "execute_result",
          "data": {
            "text/plain": [
              "\"? this film was just brilliant casting location scenery story direction everyone's really suited the part they played and you could just imagine being there robert ? is an amazing actor and now the same being director ? father came from the same scottish island as myself so i loved the fact there was a real connection with this film the witty remarks throughout the film were great it was just brilliant so much that i bought the film as soon as it was released for ? and would recommend it to everyone to watch and the fly fishing was amazing really cried at the end it was so sad and you know what they say if you cry at a film it must have been good and this definitely was also ? to the two little boy's that played the ? of norman and paul they were just brilliant children are often left out of the ? list i think because the stars that play them all grown up are such a big profile for the whole film but these children are amazing and should be praised for what they have done don't you think the whole story was so lovely because it was true and was someone's life after all that was shared with us all\""
            ],
            "application/vnd.google.colaboratory.intrinsic+json": {
              "type": "string"
            }
          },
          "metadata": {},
          "execution_count": 634
        }
      ],
      "source": [
        "# 頻度順位10000語までを指定\n",
        "from keras.datasets import imdb\n",
        "(X_train,y_train),(X_test,y_test) = imdb.load_data(num_words=10000)\n",
        "\n",
        "# 元データのレビュー内容は例えば以下の様なデータが格納されています。\n",
        "def decode_review(num):\n",
        "    word_index = imdb.get_word_index()\n",
        "    reversed_word_index = dict(\n",
        "        [value, key] for (key, value) in word_index.items())\n",
        "\n",
        "    decoded_review = ' '.join([reversed_word_index.get(i-3, '?') for i in X_train[num]])\n",
        "    \n",
        "    return decoded_review\n",
        "\n",
        "decode_review(0)"
      ]
    },
    {
      "cell_type": "markdown",
      "metadata": {
        "id": "DG-7za8aTT5K"
      },
      "source": [
        "#### 5.1 学習データ、検証データのデータ型を調べてみましょう。"
      ]
    },
    {
      "cell_type": "code",
      "execution_count": 635,
      "metadata": {
        "colab": {
          "base_uri": "https://localhost:8080/"
        },
        "id": "sW5UIENNTT5K",
        "outputId": "aa965a14-2fcd-4c66-cef0-b96e8c208ab5"
      },
      "outputs": [
        {
          "output_type": "stream",
          "name": "stdout",
          "text": [
            "X_train (25000,)\n",
            "X_test (25000,)\n",
            "y_train (25000,)\n",
            "X_test (25000,)\n"
          ]
        }
      ],
      "source": [
        "print('X_train', X_train.shape)\n",
        "print('X_test', X_test.shape)\n",
        "print('y_train', y_train.shape)\n",
        "print('X_test', y_test.shape)"
      ]
    },
    {
      "cell_type": "markdown",
      "metadata": {
        "id": "CxKijWDMTT5K"
      },
      "source": [
        "#### 5.2 それぞれ25000行のデータが格納されている様です。学習データ「X_train[0]とX_train[1]」の中身を確認してみましょう。それぞれ「行数（単語数）」、「最大値」、「最小値」、「ユニーク数」を出力して下さい。"
      ]
    },
    {
      "cell_type": "code",
      "execution_count": 636,
      "metadata": {
        "colab": {
          "base_uri": "https://localhost:8080/"
        },
        "id": "_irnYqPsTT5K",
        "outputId": "edecd20b-12c3-4b53-8018-ac983c539606"
      },
      "outputs": [
        {
          "output_type": "stream",
          "name": "stdout",
          "text": [
            "X_train[0]行数 218\n",
            "X_train[0]最大値 7486\n",
            "X_train[0]最小値 1\n",
            "X_train[0]ユニーク数 120\n",
            "X_train[1]行数 189\n",
            "X_train[1]最大値 9837\n",
            "X_train[1]最小値 1\n",
            "X_train[1]ユニーク数 121\n"
          ]
        }
      ],
      "source": [
        "print('X_train[0]行数', len(X_train[0]))\n",
        "print('X_train[0]最大値', max(X_train[0]))\n",
        "print('X_train[0]最小値', min(X_train[0]))\n",
        "print('X_train[0]ユニーク数', pd.Series(X_train[0]).nunique())\n",
        "print('X_train[1]行数', len(X_train[1]))\n",
        "print('X_train[1]最大値', max(X_train[1]))\n",
        "print('X_train[1]最小値', min(X_train[1]))\n",
        "print('X_train[1]ユニーク数', pd.Series(X_train[1]).nunique())"
      ]
    },
    {
      "cell_type": "markdown",
      "metadata": {
        "id": "fFXz1pkoTT5K"
      },
      "source": [
        "#### 5.3 同様に学習データ（y_train）の中身を確認してみましょう。「行数」、「最大値」、「最小値」、「ユニーク数」を出力して下さい。"
      ]
    },
    {
      "cell_type": "code",
      "execution_count": 637,
      "metadata": {
        "colab": {
          "base_uri": "https://localhost:8080/"
        },
        "id": "P3Q9vC-ETT5K",
        "outputId": "bd5fab12-667e-4183-c33d-ff9d434c0184"
      },
      "outputs": [
        {
          "output_type": "stream",
          "name": "stdout",
          "text": [
            "行数 25000\n",
            "最大値 1\n",
            "最小値 0\n",
            "ユニーク値 2\n"
          ]
        }
      ],
      "source": [
        "print('行数', len(y_train))\n",
        "print('最大値', max(y_train))\n",
        "print('最小値', min(y_train))\n",
        "print('ユニーク値', pd.Series(y_train).nunique())"
      ]
    },
    {
      "cell_type": "markdown",
      "metadata": {
        "id": "NxjL20LFTT5K"
      },
      "source": [
        "#### 5.4 今回のデータは各レビューに対し、「0」か「1」の教師データが対応しているようです。そして、各レビュー内の単語に対し出現頻度の順位が数値として、各単語に割り当てられています。学習データの「行数」が異なるので揃えていきましょう。今回は「500」で設定して下さい。※ヒント：preprocessingのモジュールのsequenceを使用します。"
      ]
    },
    {
      "cell_type": "markdown",
      "source": [
        "参考：https://runebook.dev/ja/docs/tensorflow/keras/utils/pad_sequences"
      ],
      "metadata": {
        "id": "Niehq0or7mJd"
      }
    },
    {
      "cell_type": "code",
      "execution_count": 638,
      "metadata": {
        "colab": {
          "base_uri": "https://localhost:8080/"
        },
        "id": "RGoIz_buTT5K",
        "outputId": "632bfd7c-b67a-4ae4-a8f8-5101d6898de0"
      },
      "outputs": [
        {
          "output_type": "stream",
          "name": "stdout",
          "text": [
            "X_train (25000, 500)\n",
            "X_test (25000, 500)\n",
            "X_train[0] [   0    0    0    0    0    0    0    0    0    0    0    0    0    0\n",
            "    0    0    0    0    0    0    0    0    0    0    0    0    0    0\n",
            "    0    0    0    0    0    0    0    0    0    0    0    0    0    0\n",
            "    0    0    0    0    0    0    0    0    0    0    0    0    0    0\n",
            "    0    0    0    0    0    0    0    0    0    0    0    0    0    0\n",
            "    0    0    0    0    0    0    0    0    0    0    0    0    0    0\n",
            "    0    0    0    0    0    0    0    0    0    0    0    0    0    0\n",
            "    0    0    0    0    0    0    0    0    0    0    0    0    0    0\n",
            "    0    0    0    0    0    0    0    0    0    0    0    0    0    0\n",
            "    0    0    0    0    0    0    0    0    0    0    0    0    0    0\n",
            "    0    0    0    0    0    0    0    0    0    0    0    0    0    0\n",
            "    0    0    0    0    0    0    0    0    0    0    0    0    0    0\n",
            "    0    0    0    0    0    0    0    0    0    0    0    0    0    0\n",
            "    0    0    0    0    0    0    0    0    0    0    0    0    0    0\n",
            "    0    0    0    0    0    0    0    0    0    0    0    0    0    0\n",
            "    0    0    0    0    0    0    0    0    0    0    0    0    0    0\n",
            "    0    0    0    0    0    0    0    0    0    0    0    0    0    0\n",
            "    0    0    0    0    0    0    0    0    0    0    0    0    0    0\n",
            "    0    0    0    0    0    0    0    0    0    0    0    0    0    0\n",
            "    0    0    0    0    0    0    0    0    0    0    0    0    0    0\n",
            "    0    0    1   14   22   16   43  530  973 1622 1385   65  458 4468\n",
            "   66 3941    4  173   36  256    5   25  100   43  838  112   50  670\n",
            "    2    9   35  480  284    5  150    4  172  112  167    2  336  385\n",
            "   39    4  172 4536 1111   17  546   38   13  447    4  192   50   16\n",
            "    6  147 2025   19   14   22    4 1920 4613  469    4   22   71   87\n",
            "   12   16   43  530   38   76   15   13 1247    4   22   17  515   17\n",
            "   12   16  626   18    2    5   62  386   12    8  316    8  106    5\n",
            "    4 2223 5244   16  480   66 3785   33    4  130   12   16   38  619\n",
            "    5   25  124   51   36  135   48   25 1415   33    6   22   12  215\n",
            "   28   77   52    5   14  407   16   82    2    8    4  107  117 5952\n",
            "   15  256    4    2    7 3766    5  723   36   71   43  530  476   26\n",
            "  400  317   46    7    4    2 1029   13  104   88    4  381   15  297\n",
            "   98   32 2071   56   26  141    6  194 7486   18    4  226   22   21\n",
            "  134  476   26  480    5  144   30 5535   18   51   36   28  224   92\n",
            "   25  104    4  226   65   16   38 1334   88   12   16  283    5   16\n",
            " 4472  113  103   32   15   16 5345   19  178   32]\n"
          ]
        }
      ],
      "source": [
        "from tensorflow.keras.preprocessing import sequence\n",
        "X_train = sequence.pad_sequences(X_train, maxlen=500)\n",
        "X_test = sequence.pad_sequences(X_test, maxlen=500)\n",
        "print('X_train',X_train.shape)\n",
        "print('X_test',X_test.shape)\n",
        "print('X_train[0]',X_train[0])"
      ]
    },
    {
      "cell_type": "markdown",
      "metadata": {
        "id": "uhBr7LKFTT5K"
      },
      "source": [
        "#### 5.5 説明変数のサイズが揃い、準備は整いました。現在扱っている「テキストデータ」や「時系列データ等」、データの「順序」に意味があるデータに関しては、一般的なディープラーニングやCNNより、RNNのほうが適しています。それでは、RNNを実装してみましょう。layersクラスから「Embedding」、「SimpleRNN」を読み込んで下さい。"
      ]
    },
    {
      "cell_type": "markdown",
      "source": [
        "参考：https://qiita.com/FukuharaYohei/items/25de4a0faf634ad34efc"
      ],
      "metadata": {
        "id": "tQP27S738RHU"
      }
    },
    {
      "cell_type": "code",
      "execution_count": 639,
      "metadata": {
        "colab": {
          "base_uri": "https://localhost:8080/"
        },
        "id": "OO5LVvKtTT5K",
        "outputId": "51fb2d28-999b-4b04-cee3-6269eb5a2631"
      },
      "outputs": [
        {
          "output_type": "stream",
          "name": "stdout",
          "text": [
            "<class 'keras.layers.core.embedding.Embedding'>\n",
            "<class 'keras.layers.rnn.simple_rnn.SimpleRNN'>\n"
          ]
        }
      ],
      "source": [
        "from keras.layers import Embedding, SimpleRNN\n",
        "print(Embedding)\n",
        "print(SimpleRNN)"
      ]
    },
    {
      "cell_type": "markdown",
      "metadata": {
        "id": "vSrjnrViTT5L"
      },
      "source": [
        "#### 5.6 Sequentialのクラスを読み込み、modelという変数に格納して下さい。※モデルが初期化されます。"
      ]
    },
    {
      "cell_type": "code",
      "execution_count": 640,
      "metadata": {
        "colab": {
          "base_uri": "https://localhost:8080/"
        },
        "id": "LnKPvht1TT5L",
        "outputId": "1f4076de-3822-4290-9c1f-14f2c33d5cbd"
      },
      "outputs": [
        {
          "output_type": "execute_result",
          "data": {
            "text/plain": [
              "<keras.engine.sequential.Sequential at 0x7f0850c0c040>"
            ]
          },
          "metadata": {},
          "execution_count": 640
        }
      ],
      "source": [
        "model = Sequential()\n",
        "model"
      ]
    },
    {
      "cell_type": "markdown",
      "metadata": {
        "id": "5K1feq7nTT5L"
      },
      "source": [
        "#### 5.7 Embedding層を追加して下さい。Embeddingとは単語や文を固定のベクトルに置き換える処理のことです。出力数は「10」を設定しましょう。※Embeddingは本来は特徴量エンジニアリングに分類されます。"
      ]
    },
    {
      "cell_type": "code",
      "execution_count": 641,
      "metadata": {
        "colab": {
          "base_uri": "https://localhost:8080/"
        },
        "id": "vCTtz60xTT5L",
        "outputId": "b9e75870-ea1f-4465-8d4a-dc95b307cc0f"
      },
      "outputs": [
        {
          "output_type": "stream",
          "name": "stdout",
          "text": [
            "Model: \"sequential_62\"\n",
            "_________________________________________________________________\n",
            " Layer (type)                Output Shape              Param #   \n",
            "=================================================================\n",
            " embedding_1 (Embedding)     (None, None, 10)          100000    \n",
            "                                                                 \n",
            "=================================================================\n",
            "Total params: 100,000\n",
            "Trainable params: 100,000\n",
            "Non-trainable params: 0\n",
            "_________________________________________________________________\n"
          ]
        }
      ],
      "source": [
        "model.add(Embedding(10000, 10))\n",
        "model.summary()"
      ]
    },
    {
      "cell_type": "markdown",
      "metadata": {
        "id": "OI5WlfOmTT5L"
      },
      "source": [
        "#### 5.8 RNN層を追加して下さい。"
      ]
    },
    {
      "cell_type": "code",
      "execution_count": 642,
      "metadata": {
        "id": "_fytazSKTT5L",
        "colab": {
          "base_uri": "https://localhost:8080/"
        },
        "outputId": "e3c0061b-4c6a-4555-c6c4-a93b3e68c1c1"
      },
      "outputs": [
        {
          "output_type": "stream",
          "name": "stdout",
          "text": [
            "Model: \"sequential_62\"\n",
            "_________________________________________________________________\n",
            " Layer (type)                Output Shape              Param #   \n",
            "=================================================================\n",
            " embedding_1 (Embedding)     (None, None, 10)          100000    \n",
            "                                                                 \n",
            " simple_rnn_1 (SimpleRNN)    (None, 30)                1230      \n",
            "                                                                 \n",
            "=================================================================\n",
            "Total params: 101,230\n",
            "Trainable params: 101,230\n",
            "Non-trainable params: 0\n",
            "_________________________________________________________________\n"
          ]
        }
      ],
      "source": [
        "model.add(SimpleRNN(30))\n",
        "model.summary()"
      ]
    },
    {
      "cell_type": "markdown",
      "metadata": {
        "id": "rKfDqWERTT5L"
      },
      "source": [
        "#### 5.9 出力層を追加しましょう。活性化関数はシグモイドを設定して下さい。"
      ]
    },
    {
      "cell_type": "code",
      "execution_count": 643,
      "metadata": {
        "id": "iq_YYIoITT5L",
        "colab": {
          "base_uri": "https://localhost:8080/"
        },
        "outputId": "57c3940f-f0fe-4838-d9a8-872be6cc3013"
      },
      "outputs": [
        {
          "output_type": "stream",
          "name": "stdout",
          "text": [
            "Model: \"sequential_62\"\n",
            "_________________________________________________________________\n",
            " Layer (type)                Output Shape              Param #   \n",
            "=================================================================\n",
            " embedding_1 (Embedding)     (None, None, 10)          100000    \n",
            "                                                                 \n",
            " simple_rnn_1 (SimpleRNN)    (None, 30)                1230      \n",
            "                                                                 \n",
            " dense_152 (Dense)           (None, 1)                 31        \n",
            "                                                                 \n",
            "=================================================================\n",
            "Total params: 101,261\n",
            "Trainable params: 101,261\n",
            "Non-trainable params: 0\n",
            "_________________________________________________________________\n"
          ]
        }
      ],
      "source": [
        "model.add(Dense(1, activation='sigmoid'))\n",
        "model.summary()"
      ]
    },
    {
      "cell_type": "markdown",
      "metadata": {
        "id": "3Xb-JT8_TT5L"
      },
      "source": [
        "#### 5.10 compileの設定をしましょう。最適化関数を「rmsprop」を選択して下さい。誤差関数を「binary_crossentoropy」で設定し、metricsは「正解率」を設定してみましょう。※何を目的として重みを更新指定行くかを決定している部分になります。"
      ]
    },
    {
      "cell_type": "code",
      "execution_count": 647,
      "metadata": {
        "id": "3wlrd9YuTT5L"
      },
      "outputs": [],
      "source": [
        "model.compile(loss='binary_crossentropy',\n",
        "              optimizer='rmsprop',\n",
        "              metrics=['acc'])"
      ]
    },
    {
      "cell_type": "markdown",
      "metadata": {
        "id": "3OEC6_MPTT5L"
      },
      "source": [
        "#### 5.11 エポック数は「4」、バッチサイズは「100」、validation_splitを「0.2」に設定して学習を開始して下さい。"
      ]
    },
    {
      "cell_type": "code",
      "execution_count": 648,
      "metadata": {
        "id": "wk48jWLuTT5L",
        "colab": {
          "base_uri": "https://localhost:8080/"
        },
        "outputId": "84e775cd-dd19-4ceb-a8f1-4ca2fc45a4db"
      },
      "outputs": [
        {
          "output_type": "stream",
          "name": "stdout",
          "text": [
            "Epoch 1/4\n",
            "200/200 [==============================] - 30s 141ms/step - loss: 0.5787 - acc: 0.6959 - val_loss: 0.4452 - val_acc: 0.8120\n",
            "Epoch 2/4\n",
            "200/200 [==============================] - 26s 129ms/step - loss: 0.3774 - acc: 0.8432 - val_loss: 0.4485 - val_acc: 0.7936\n",
            "Epoch 3/4\n",
            "200/200 [==============================] - 26s 132ms/step - loss: 0.3097 - acc: 0.8780 - val_loss: 0.3406 - val_acc: 0.8598\n",
            "Epoch 4/4\n",
            "200/200 [==============================] - 26s 131ms/step - loss: 0.2661 - acc: 0.8968 - val_loss: 0.3634 - val_acc: 0.8582\n"
          ]
        }
      ],
      "source": [
        "history = model.fit(X_train, y_train, batch_size=100, epochs=4, validation_split=0.2)"
      ]
    },
    {
      "cell_type": "markdown",
      "metadata": {
        "id": "6K7_I8yITT5M"
      },
      "source": [
        "#### 5.12 「学習データ(acc)」、「検証データ(val_acc)」の精度をエポック毎にグラフを表示して下さい。"
      ]
    },
    {
      "cell_type": "code",
      "execution_count": 649,
      "metadata": {
        "id": "U7rthdBXTT5M",
        "colab": {
          "base_uri": "https://localhost:8080/",
          "height": 265
        },
        "outputId": "6e6273c3-a37a-4db9-c2ec-2b91c4c0a76b"
      },
      "outputs": [
        {
          "output_type": "display_data",
          "data": {
            "text/plain": [
              "<Figure size 432x288 with 1 Axes>"
            ],
            "image/png": "[encoded data removed]"
          },
          "metadata": {
            "needs_background": "light"
          }
        }
      ],
      "source": [
        "acc = history.history['acc']\n",
        "val_acc = history.history['val_acc']\n",
        "\n",
        "epochs = range(len(acc))\n",
        "\n",
        "plt.plot(epochs, acc, 'bo', label='acc')\n",
        "plt.plot(epochs, val_acc, 'go', label='val_acc')\n",
        "plt.legend()\n",
        "plt.show()"
      ]
    },
    {
      "cell_type": "markdown",
      "metadata": {
        "id": "yC6TnyhaTT5M"
      },
      "source": [
        "#### 5.13 学習データ・検証データに対して約80％以上の正解率があるようです。「5.12」で作成したモデルで（X_train[1]）に対して予測結果を出力してみましょう。"
      ]
    },
    {
      "cell_type": "code",
      "execution_count": 650,
      "metadata": {
        "id": "Wpl63nd5TT5M",
        "colab": {
          "base_uri": "https://localhost:8080/"
        },
        "outputId": "85b47805-e65c-48e4-da1f-074dabf7dc64"
      },
      "outputs": [
        {
          "output_type": "stream",
          "name": "stdout",
          "text": [
            "782/782 [==============================] - 22s 28ms/step\n"
          ]
        },
        {
          "output_type": "execute_result",
          "data": {
            "text/plain": [
              "array([0.03700548], dtype=float32)"
            ]
          },
          "metadata": {},
          "execution_count": 650
        }
      ],
      "source": [
        "model.predict(X_train)[1]"
      ]
    },
    {
      "cell_type": "markdown",
      "metadata": {
        "id": "zwDIUdtMTT5M"
      },
      "source": [
        "#### 5.14 悪いレビューである可能性が高そうです。事前準備「5.0」を利用してレビュー内容を確認してみましょう。"
      ]
    },
    {
      "cell_type": "code",
      "execution_count": 652,
      "metadata": {
        "id": "FItvLXeETT5M",
        "colab": {
          "base_uri": "https://localhost:8080/",
          "height": 200
        },
        "outputId": "c87085bd-873c-4d19-8807-73e310aa3b0e"
      },
      "outputs": [
        {
          "output_type": "execute_result",
          "data": {
            "text/plain": [
              "\"? ? ? ? ? ? ? ? ? ? ? ? ? ? ? ? ? ? ? ? ? ? ? ? ? ? ? ? ? ? ? ? ? ? ? ? ? ? ? ? ? ? ? ? ? ? ? ? ? ? ? ? ? ? ? ? ? ? ? ? ? ? ? ? ? ? ? ? ? ? ? ? ? ? ? ? ? ? ? ? ? ? ? ? ? ? ? ? ? ? ? ? ? ? ? ? ? ? ? ? ? ? ? ? ? ? ? ? ? ? ? ? ? ? ? ? ? ? ? ? ? ? ? ? ? ? ? ? ? ? ? ? ? ? ? ? ? ? ? ? ? ? ? ? ? ? ? ? ? ? ? ? ? ? ? ? ? ? ? ? ? ? ? ? ? ? ? ? ? ? ? ? ? ? ? ? ? ? ? ? ? ? ? ? ? ? ? ? ? ? ? ? ? ? ? ? ? ? ? ? ? ? ? ? ? ? ? ? ? ? ? ? ? ? ? ? ? ? ? ? ? ? ? ? ? ? ? ? ? ? ? ? ? ? ? ? ? ? ? ? ? ? ? ? ? ? ? ? ? ? ? ? ? ? ? ? ? ? ? ? ? ? ? ? ? ? ? ? ? ? ? ? ? ? ? ? ? ? ? ? ? ? ? ? ? ? ? ? ? ? ? ? ? ? ? ? ? ? ? ? ? ? ? ? ? ? ? ? ? ? ? ? big hair big boobs bad music and a giant safety pin these are the words to best describe this terrible movie i love cheesy horror movies and i've seen hundreds but this had got to be on of the worst ever made the plot is paper thin and ridiculous the acting is an abomination the script is completely laughable the best is the end showdown with the cop and how he worked out who the killer is it's just so damn terribly written the clothes are sickening and funny in equal ? the hair is big lots of boobs ? men wear those cut ? shirts that show off their ? sickening that men actually wore them and the music is just ? trash that plays over and over again in almost every scene there is trashy music boobs and ? taking away bodies and the gym still doesn't close for ? all joking aside this is a truly bad film whose only charm is to look back on the disaster that was the 80's and have a good old laugh at how bad everything was back then\""
            ],
            "application/vnd.google.colaboratory.intrinsic+json": {
              "type": "string"
            }
          },
          "metadata": {},
          "execution_count": 652
        }
      ],
      "source": [
        "decode_review(1)"
      ]
    },
    {
      "cell_type": "markdown",
      "metadata": {
        "id": "vz-aU3tQTT5M"
      },
      "source": [
        "#### 5.15 実際の正解データを確認していきましょう。y_train[1]のラベルを確認して下さい。"
      ]
    },
    {
      "cell_type": "code",
      "execution_count": 655,
      "metadata": {
        "id": "ifMvdsyOTT5M",
        "colab": {
          "base_uri": "https://localhost:8080/"
        },
        "outputId": "36d13c51-45fb-4818-eb7a-fea48abc56c5"
      },
      "outputs": [
        {
          "output_type": "stream",
          "name": "stdout",
          "text": [
            "y_train[1]: 0\n"
          ]
        }
      ],
      "source": [
        "print('y_train[1]:', y_train[1])"
      ]
    }
  ],
  "metadata": {
    "colab": {
      "collapsed_sections": [
        "iiZpEw0BTT48"
      ],
      "provenance": [],
      "include_colab_link": true
    },
    "kernelspec": {
      "display_name": "Python 3",
      "language": "python",
      "name": "python3"
    },
    "language_info": {
      "codemirror_mode": {
        "name": "ipython",
        "version": 3
      },
      "file_extension": ".py",
      "mimetype": "text/x-python",
      "name": "python",
      "nbconvert_exporter": "python",
      "pygments_lexer": "ipython3",
      "version": "3.8.3"
    }
  },
  "nbformat": 4,
  "nbformat_minor": 0
}